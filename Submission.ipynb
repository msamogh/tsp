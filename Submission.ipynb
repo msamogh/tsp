{
 "cells": [
  {
   "cell_type": "markdown",
   "metadata": {},
   "source": [
    "## Author"
   ]
  },
  {
   "cell_type": "markdown",
   "metadata": {},
   "source": [
    "This notebook was authored by Amogh Mannekote (UFID 27146587)."
   ]
  },
  {
   "cell_type": "markdown",
   "metadata": {},
   "source": [
    "## Index of questions (for referencing in the notebook)"
   ]
  },
  {
   "cell_type": "markdown",
   "metadata": {},
   "source": [
    "1. Implement the elastic net TSP by minimizing the following objective function. \\\n",
    " $E_{TSP}(P, Y) = \\sum_{i = 1}^{N}{\\sum_{a = 1}^M{P_{ia}||x_i - y_a||^2}} + \\frac{\\kappa}{2}\\sum_{a = 1}^M{||y_a - y_{a \\oplus 1}||_2^2}$\n",
    "2. Document the settings of the free parameters $\\kappa$, $\\beta$ (the inverse temperature) and $M$, the number of hidden and actual cities.\n",
    "3. If reducing $\\kappa$, provide the rate, the total number of iterations, etc.\n",
    "4. If steadily increasing $\\beta$, provide the rate, the total number of iterations, etc.\n",
    "5. Document initial conditions on $Y$.\n",
    "6. Execute the elastic net on 100 cities in $[0,1]^2$ chosen using a uniform distribution.\n",
    "7. Since we require average performance, please compute the average tour length for 100 trials and show a histogram of tour lengths.\n",
    "8. Show visual examples of the shortest, longest and median length tours for the 100 city TSP.\n",
    "9. [Extra Credit: 30 points] Compare against well known asymptotic lower bounds such as the ones uploaded on Canvas and the Held-Karp lower bound\n",
    "10. [Extra Credit: 50 points] Execute the elastic net on the US 48 cities using data from TSPlib or from https://people.sc.fsu.edu/~jburkardt/datasets/tsp/tsp.html. Give a detailed explanation\n",
    "of the results\n",
    "11. [Extra Credit: 50 points] Explain the equivalent objective function (free energy) shown below obtained by summing over all configurations of P\n",
    "12. [Extra Credit: 70 points] Explain the relevance of the following objective function in the elastic net implementation\n",
    "13. [Extra Credit: 50 points] Show the convergence of the algorithm by detailed plots of either (1) or (2) (depending on your implementation)."
   ]
  },
  {
   "cell_type": "markdown",
   "metadata": {},
   "source": [
    "------------"
   ]
  },
  {
   "cell_type": "markdown",
   "metadata": {},
   "source": [
    "## Imports"
   ]
  },
  {
   "cell_type": "code",
   "execution_count": 101,
   "metadata": {},
   "outputs": [],
   "source": [
    "from itertools import chain, tee\n",
    "from collections import deque\n",
    "import math\n",
    "import functools\n",
    "\n",
    "import numpy as np\n",
    "np.random.seed(42)\n",
    "\n",
    "import wandb\n",
    "\n",
    "from data_loader import load_cities"
   ]
  },
  {
   "cell_type": "markdown",
   "metadata": {},
   "source": [
    "## Initialize hyperparameters"
   ]
  },
  {
   "cell_type": "markdown",
   "metadata": {},
   "source": [
    "**NOTE TO TA: The cell below is relevant for answering questions [2, 3, 4, 5].**"
   ]
  },
  {
   "cell_type": "code",
   "execution_count": 102,
   "metadata": {},
   "outputs": [
    {
     "name": "stderr",
     "output_type": "stream",
     "text": [
      "wandb: WARNING Calling wandb.login() after wandb.init() has no effect.\n"
     ]
    },
    {
     "name": "stdout",
     "output_type": "stream",
     "text": [
      "Create sweep with ID: 8u3d01ax\n",
      "Sweep URL: https://wandb.ai/msamogh/uncategorized/sweeps/8u3d01ax\n"
     ]
    }
   ],
   "source": [
    "# Log current hyperparameter settings to W&B.\n",
    "sweep_config = {\n",
    "    \"name\" : \"sweep-tsp-22\",\n",
    "    \"method\" : \"random\",\n",
    "    \"parameters\" : {\n",
    "        \"INPUT\": {\n",
    "            \"values\": [\"tsp-22\", \"us-cities\"]\n",
    "        },\n",
    "        \"M_FACTOR\" : {\n",
    "            \"values\" : [1.5, 2.0, 2.5, 3.0, 3.5]\n",
    "        },\n",
    "        \"KAPPA_START\" : {\n",
    "            \"min\": 0.05,\n",
    "            \"max\": 0.5\n",
    "        },\n",
    "        \"GAMMA\": {\n",
    "            \"min\": 1.01,\n",
    "            \"max\": 1.25\n",
    "        },\n",
    "        \"BETA\": {\n",
    "            \"min\": 1,\n",
    "            \"max\": 20\n",
    "        },\n",
    "        \"NUM_ITERS\": {\n",
    "            \"value\": 10000\n",
    "        },\n",
    "        \"WORST_DISTANCE_EPSILON\": {\n",
    "            \"value\": 0.01\n",
    "        },\n",
    "        \"PERTURBATION_RADIUS\": {\n",
    "            \"min\": 0.20,\n",
    "            \"max\": 2.00\n",
    "        },\n",
    "        \n",
    "    }\n",
    "}\n",
    "sweep_id = wandb.sweep(sweep_config)"
   ]
  },
  {
   "cell_type": "markdown",
   "metadata": {},
   "source": [
    "### Initialize W&B environment"
   ]
  },
  {
   "cell_type": "code",
   "execution_count": 103,
   "metadata": {},
   "outputs": [
    {
     "data": {
      "text/html": [
       "Finishing last run (ID:eagsrp9z) before initializing another..."
      ],
      "text/plain": [
       "<IPython.core.display.HTML object>"
      ]
     },
     "metadata": {},
     "output_type": "display_data"
    },
    {
     "data": {
      "text/html": [
       "<br/>Waiting for W&B process to finish, PID 14856<br/>Program ended successfully."
      ],
      "text/plain": [
       "<IPython.core.display.HTML object>"
      ]
     },
     "metadata": {},
     "output_type": "display_data"
    },
    {
     "data": {
      "application/vnd.jupyter.widget-view+json": {
       "model_id": "91c7ce2d8eda466d847b653f7e53d71c",
       "version_major": 2,
       "version_minor": 0
      },
      "text/plain": [
       "VBox(children=(Label(value=' 0.00MB of 0.00MB uploaded (0.00MB deduped)\\r'), FloatProgress(value=1.0, max=1.0)…"
      ]
     },
     "metadata": {},
     "output_type": "display_data"
    },
    {
     "data": {
      "text/html": [
       "Find user logs for this run at: <code>c:\\Users\\msamo\\ufl\\spring22\\mis\\tsp\\wandb\\run-20220420_165743-eagsrp9z\\logs\\debug.log</code>"
      ],
      "text/plain": [
       "<IPython.core.display.HTML object>"
      ]
     },
     "metadata": {},
     "output_type": "display_data"
    },
    {
     "data": {
      "text/html": [
       "Find internal logs for this run at: <code>c:\\Users\\msamo\\ufl\\spring22\\mis\\tsp\\wandb\\run-20220420_165743-eagsrp9z\\logs\\debug-internal.log</code>"
      ],
      "text/plain": [
       "<IPython.core.display.HTML object>"
      ]
     },
     "metadata": {},
     "output_type": "display_data"
    },
    {
     "data": {
      "text/html": [
       "Synced 5 W&B file(s), 0 media file(s), 0 artifact file(s) and 0 other file(s)"
      ],
      "text/plain": [
       "<IPython.core.display.HTML object>"
      ]
     },
     "metadata": {},
     "output_type": "display_data"
    },
    {
     "data": {
      "text/html": [
       "\n",
       "                    <br/>Synced <strong style=\"color:#cdcd00\">iconic-galaxy-3</strong>: <a href=\"https://wandb.ai/msamogh/mis-tsp/runs/eagsrp9z\" target=\"_blank\">https://wandb.ai/msamogh/mis-tsp/runs/eagsrp9z</a><br/>\n",
       "                "
      ],
      "text/plain": [
       "<IPython.core.display.HTML object>"
      ]
     },
     "metadata": {},
     "output_type": "display_data"
    },
    {
     "data": {
      "text/html": [
       "...Successfully finished last run (ID:eagsrp9z). Initializing new run:<br/><br/>"
      ],
      "text/plain": [
       "<IPython.core.display.HTML object>"
      ]
     },
     "metadata": {},
     "output_type": "display_data"
    },
    {
     "name": "stderr",
     "output_type": "stream",
     "text": [
      "wandb: wandb version 0.12.14 is available!  To upgrade, please run:\n",
      "wandb:  $ pip install wandb --upgrade\n"
     ]
    },
    {
     "data": {
      "text/html": [
       "\n",
       "                Tracking run with wandb version 0.10.32<br/>\n",
       "                Syncing run <strong style=\"color:#cdcd00\">ancient-voice-4</strong> to <a href=\"https://wandb.ai\" target=\"_blank\">Weights & Biases</a> <a href=\"https://docs.wandb.com/integrations/jupyter.html\" target=\"_blank\">(Documentation)</a>.<br/>\n",
       "                Project page: <a href=\"https://wandb.ai/msamogh/mis-tsp\" target=\"_blank\">https://wandb.ai/msamogh/mis-tsp</a><br/>\n",
       "                Run page: <a href=\"https://wandb.ai/msamogh/mis-tsp/runs/37hy6q65\" target=\"_blank\">https://wandb.ai/msamogh/mis-tsp/runs/37hy6q65</a><br/>\n",
       "                Run data is saved locally in <code>c:\\Users\\msamo\\ufl\\spring22\\mis\\tsp\\wandb\\run-20220420_170021-37hy6q65</code><br/><br/>\n",
       "            "
      ],
      "text/plain": [
       "<IPython.core.display.HTML object>"
      ]
     },
     "metadata": {},
     "output_type": "display_data"
    }
   ],
   "source": [
    "wandb.init(project=\"mis-tsp\", entity=\"msamogh\")\n",
    "CONFIG = wandb.config"
   ]
  },
  {
   "cell_type": "code",
   "execution_count": 104,
   "metadata": {},
   "outputs": [],
   "source": [
    "def init_intermediate_cities(self, strategy=\"centroid\", **kwargs):\n",
    "    if strategy == \"centroid\":\n",
    "        self.intermediate_cities = np.tile(\n",
    "            np.mean(self.cities, axis=0),\n",
    "            self.M\n",
    "        ).reshape((self.M, 2))\n",
    "        # Create perturbation vectors of magnitude radius\n",
    "        perturbation_vectors = np.random.random((self.M, 2))\n",
    "        perturbation_vectors /= np.linalg.norm(perturbation_vectors, axis=1, ord=2, keepdims=True)\n",
    "        perturbation_vectors *= self.CONFIG[\"PERTURBATION_RADIUS\"]\n",
    "        self.intermediate_cities += perturbation_vectors\n",
    "    else:\n",
    "        raise RuntimeError(f\"Unknown strategy: {strategy}\")"
   ]
  },
  {
   "cell_type": "markdown",
   "metadata": {},
   "source": [
    "$$\\kappa_{T+1} = \\frac{\\kappa_T}{\\gamma}$$"
   ]
  },
  {
   "cell_type": "code",
   "execution_count": 105,
   "metadata": {},
   "outputs": [],
   "source": [
    "def update_kappa(self):\n",
    "    self.kappa = max(self.kappa / self.CONFIG[\"GAMMA\"], 0.01)"
   ]
  },
  {
   "cell_type": "markdown",
   "metadata": {},
   "source": [
    "$$P_{ia} = \\frac{exp\\{-\\beta\\||x_i - y_a||^2_2\\}}{\\sum_{b=1}^{M}{exp\\{-\\beta||x_i - y_b||_2^2\\}}}$$"
   ]
  },
  {
   "cell_type": "code",
   "execution_count": 106,
   "metadata": {},
   "outputs": [],
   "source": [
    "def update_weights(self):\n",
    "    self.diff = self.cities[:, np.newaxis] - self.intermediate_cities\n",
    "    self.dist_squared = np.sum(self.diff ** 2, axis=-1)\n",
    "\n",
    "    self.worst_dist = np.max(np.min(np.sqrt(self.dist_squared), axis=1))\n",
    "    self.worst_dists.append(self.worst_dist)\n",
    "\n",
    "    self.weights = np.exp(-self.dist_squared / (2 * (self.kappa ** 2)))\n",
    "    self.weights /= self.weights.sum(axis=1)[:, np.newaxis]"
   ]
  },
  {
   "cell_type": "markdown",
   "metadata": {},
   "source": [
    "$$d_a = \\sum_{i = 1}^{N}{P_{ia}}$$\n",
    "\n",
    "$$D_{aa} = d_a$$"
   ]
  },
  {
   "cell_type": "code",
   "execution_count": 107,
   "metadata": {},
   "outputs": [],
   "source": [
    "@property\n",
    "def D(self):\n",
    "    def d_ij(i, j):            \n",
    "        if i == j:\n",
    "            return np.sum(self.weights[:, int(j)])\n",
    "        return 0\n",
    "    return np.fromfunction(np.vectorize(d_ij), (self.M, self.M))"
   ]
  },
  {
   "cell_type": "markdown",
   "metadata": {},
   "source": [
    "$$L_{aa} = 2, L_{a, a \\bigoplus 1} = -1, L_{a, a \\ominus 1} = -1$$"
   ]
  },
  {
   "cell_type": "code",
   "execution_count": 108,
   "metadata": {},
   "outputs": [],
   "source": [
    "@property\n",
    "def L(self):\n",
    "    def L_ij(i, j):\n",
    "        if i == j:\n",
    "            return 2\n",
    "        if i == (j + 1) % self.M:\n",
    "            return 1\n",
    "        if j == (i + 1) % self.M:\n",
    "            return 1\n",
    "        return 0\n",
    "    return np.fromfunction(np.vectorize(L_ij), (self.M, self.M), dtype=int)"
   ]
  },
  {
   "cell_type": "markdown",
   "metadata": {},
   "source": [
    "$$Y = (\\kappa L + D)^{-1}P^TX$$"
   ]
  },
  {
   "cell_type": "code",
   "execution_count": 109,
   "metadata": {},
   "outputs": [],
   "source": [
    "def update_intermediate_cities(self):\n",
    "    self.intermediate_cities = np.linalg.inv((self.kappa * self.L + self.D)) @ self.weights.T @ self.cities"
   ]
  },
  {
   "cell_type": "code",
   "execution_count": 110,
   "metadata": {},
   "outputs": [],
   "source": [
    "def get_city_to_intermediate_city_map(self):\n",
    "    hidden_visible_city_pairs = []\n",
    "\n",
    "    for _ in range(self.dist_squared.shape[0]):\n",
    "        # Identify the shortest edge among all edges between hidden and real cities.\n",
    "        city, intermediate_city = np.unravel_index(np.argmin(self.dist_squared), self.dist_squared.shape)\n",
    "\n",
    "        # Set distance from the (city, intermediate_city) pair to infinity so that\n",
    "        # they don't get picked once again as the shortest edge in the subsequent\n",
    "        # iterations.\n",
    "        self.dist_squared[city, :] = np.inf\n",
    "        self.dist_squared[:, intermediate_city] = np.inf\n",
    "\n",
    "        hidden_visible_city_pairs.append((intermediate_city, city))\n",
    "\n",
    "    self.city_tour = [x[1] for x in sorted(hidden_visible_city_pairs, key=lambda x: x[0])]"
   ]
  },
  {
   "cell_type": "code",
   "execution_count": 111,
   "metadata": {},
   "outputs": [],
   "source": [
    "def get_tour(self):\n",
    "    assert len(self.city_tour) == self.N\n",
    "    distance = 0\n",
    "    tour = []\n",
    "    for stop_idx in range(len(self.city_tour)):\n",
    "        tour.append((self.city_tour[stop_idx], self.city_tour[(stop_idx + 1) % self.N]))\n",
    "        distance += np.linalg.norm(self.original_cities[stop_idx] - self.original_cities[(stop_idx + 1) % self.N])\n",
    "    return distance, tour"
   ]
  },
  {
   "cell_type": "code",
   "execution_count": 112,
   "metadata": {},
   "outputs": [],
   "source": [
    "def solve(self):\n",
    "    for i in range(NUM_ITERS):\n",
    "        self.update_weights()\n",
    "        self.update_kappa()\n",
    "        self.update_intermediate_cities()\n",
    "        if i % 100 == 0:\n",
    "            print(f\"Iteration {i}, Worst distance: {self.worst_dist}\")\n",
    "        if self.worst_dist < self.CONFIG[\"WORST_DISTANCE_EPSILON\"]:\n",
    "            break\n",
    "        if len(self.worst_dists) == 2:\n",
    "            if self.worst_dists[1] - self.worst_dists[0] == 0:\n",
    "                break\n",
    "    self.get_city_to_intermediate_city_map()\n",
    "    return self.get_tour()"
   ]
  },
  {
   "cell_type": "code",
   "execution_count": 113,
   "metadata": {},
   "outputs": [],
   "source": [
    "class ElasticNet(object):\n",
    "    \n",
    "    def __init__(\n",
    "        self,\n",
    "        init_intermediate_cities,\n",
    "        solve,\n",
    "        update_weights,\n",
    "        update_kappa,\n",
    "        update_intermediate_cities,\n",
    "        D,\n",
    "        L,\n",
    "        get_city_to_intermediate_city_map,\n",
    "        get_tour\n",
    "    ):\n",
    "        # Take the methods as parameters to the constructor to be able to\n",
    "        # split the method definitions into separate cells in the notebook.\n",
    "        ElasticNet.init_intermediate_cities = init_intermediate_cities\n",
    "        ElasticNet.solve = solve\n",
    "        ElasticNet.update_weights = update_weights\n",
    "        ElasticNet.update_kappa = update_kappa\n",
    "        ElasticNet.update_intermediate_cities = update_intermediate_cities\n",
    "        ElasticNet.D = D\n",
    "        ElasticNet.L = L\n",
    "        ElasticNet.get_city_to_intermediate_city_map = get_city_to_intermediate_city_map\n",
    "        ElasticNet.get_tour = get_tour\n",
    "\n",
    "        # Load city coordinates\n",
    "        cities, norm_cities = load_cities(self.CONFIG[\"INPUT\"])\n",
    "        # Set N to number of cities\n",
    "        self.N = cities.shape[0]\n",
    "        # Calculate number of intermediate points between the cities\n",
    "        self.M = int(self.CONFIG[\"M_FACTOR\"] * self.N)\n",
    "        # Initialize kappa to the starting value\n",
    "        self.kappa = self.CONFIG[\"KAPPA_START\"]\n",
    "        # Set original_cities to the cities\n",
    "        self.original_cities = cities\n",
    "        # Set cities to the normalized cities\n",
    "        self.cities = norm_cities\n",
    "        # Generate intermediate cities around the centroid\n",
    "        self.init_intermediate_cities(strategy=\"centroid\")\n",
    "        # A queue to hold the last two worst distances (for the stopping criterion)\n",
    "        self.worst_dists = deque(maxlen=2)"
   ]
  },
  {
   "cell_type": "code",
   "execution_count": 117,
   "metadata": {},
   "outputs": [],
   "source": [
    "def solve():\n",
    "    with wandb.init() as run:\n",
    "        distances = []\n",
    "        worst_dists = []\n",
    "        for _ in range(5):\n",
    "            net = ElasticNet(\n",
    "                init_intermediate_cities=init_intermediate_cities,\n",
    "                solve=solve,\n",
    "                update_weights=update_weights,\n",
    "                update_kappa=update_kappa,\n",
    "                update_intermediate_cities=update_intermediate_cities,\n",
    "                D=D,\n",
    "                L=L,\n",
    "                get_city_to_intermediate_city_map=get_city_to_intermediate_city_map,\n",
    "                get_tour=get_tour\n",
    "            )\n",
    "            distance, tour = net.solve()\n",
    "            distances.append(distance)\n",
    "            worst_dists.append(net.worst_dist)\n",
    "        wandb.log({\n",
    "            \"distances\": distances,\n",
    "            \"worst_dists\": worst_dists,\n",
    "            \"median_worst_dist\": np.median(worst_dists),\n",
    "            \"median_distance\": np.median(distances),\n",
    "        })"
   ]
  },
  {
   "cell_type": "code",
   "execution_count": null,
   "metadata": {},
   "outputs": [],
   "source": [
    "wandb.agent(sweep_id, function=solve, count=1)"
   ]
  },
  {
   "cell_type": "markdown",
   "metadata": {},
   "source": [
    "---------------"
   ]
  },
  {
   "cell_type": "code",
   "execution_count": null,
   "metadata": {},
   "outputs": [
    {
     "data": {
      "text/plain": [
       "0.041326854649664506"
      ]
     },
     "execution_count": 82,
     "metadata": {},
     "output_type": "execute_result"
    }
   ],
   "source": [
    "net.worst_dist"
   ]
  },
  {
   "cell_type": "code",
   "execution_count": null,
   "metadata": {},
   "outputs": [
    {
     "data": {
      "text/plain": [
       "array([[0.00000000e+000, 0.00000000e+000, 0.00000000e+000,\n",
       "        3.90225047e-315, 0.00000000e+000],\n",
       "       [0.00000000e+000, 0.00000000e+000, 0.00000000e+000,\n",
       "        1.13822077e-146, 0.00000000e+000],\n",
       "       [0.00000000e+000, 0.00000000e+000, 0.00000000e+000,\n",
       "        0.00000000e+000, 0.00000000e+000],\n",
       "       [0.00000000e+000, 9.99999921e-001, 0.00000000e+000,\n",
       "        0.00000000e+000, 0.00000000e+000],\n",
       "       [0.00000000e+000, 1.77015861e-009, 0.00000000e+000,\n",
       "        0.00000000e+000, 0.00000000e+000]])"
      ]
     },
     "execution_count": 83,
     "metadata": {},
     "output_type": "execute_result"
    }
   ],
   "source": [
    "net.weights[:5, :5]"
   ]
  },
  {
   "cell_type": "code",
   "execution_count": null,
   "metadata": {},
   "outputs": [
    {
     "data": {
      "text/plain": [
       "array([[-0.22236826, -0.78673599],\n",
       "       [ 0.05938106,  0.87667622],\n",
       "       [-0.27894467, -0.82936032]])"
      ]
     },
     "execution_count": 84,
     "metadata": {},
     "output_type": "execute_result"
    }
   ],
   "source": [
    "net.intermediate_cities[:3]"
   ]
  },
  {
   "cell_type": "markdown",
   "metadata": {},
   "source": [
    "------------"
   ]
  },
  {
   "cell_type": "markdown",
   "metadata": {},
   "source": []
  },
  {
   "cell_type": "code",
   "execution_count": null,
   "metadata": {},
   "outputs": [],
   "source": [
    "import matplotlib.pyplot as plt"
   ]
  }
 ],
 "metadata": {
  "interpreter": {
   "hash": "c455c3fb6dbc3ed24e13f81e15a8c55413eb523b33ded4459a96208217f8d07d"
  },
  "kernelspec": {
   "display_name": "cue",
   "language": "python",
   "name": "python3"
  },
  "language_info": {
   "codemirror_mode": {
    "name": "ipython",
    "version": 3
   },
   "file_extension": ".py",
   "mimetype": "text/x-python",
   "name": "python",
   "nbconvert_exporter": "python",
   "pygments_lexer": "ipython3",
   "version": "3.9.5"
  },
  "orig_nbformat": 4
 },
 "nbformat": 4,
 "nbformat_minor": 2
}
