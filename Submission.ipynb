{
 "cells": [
  {
   "cell_type": "markdown",
   "metadata": {},
   "source": [
    "**Do not forget your TODO items**"
   ]
  },
  {
   "cell_type": "markdown",
   "metadata": {},
   "source": [
    "----------------------"
   ]
  },
  {
   "cell_type": "code",
   "execution_count": 39,
   "metadata": {},
   "outputs": [],
   "source": [
    "import math\n",
    "import numpy\n",
    "import numpy as np\n",
    "from itertools import chain, tee\n",
    "import functools\n",
    "from collections import deque"
   ]
  },
  {
   "cell_type": "markdown",
   "metadata": {},
   "source": [
    "## Initialize hyperparameters"
   ]
  },
  {
   "cell_type": "code",
   "execution_count": 65,
   "metadata": {},
   "outputs": [],
   "source": [
    "from us_city import load_us_cities\n",
    "cities, norm_cities = load_us_cities()\n",
    "\n",
    "DIM = 2 # dimension of the points\n",
    "N = cities.shape[0]  # number of cities\n",
    "M = int(2.5 * N)  # number of intermediate points between the cities\n",
    "\n",
    "KAPPA_START = 0.2  # starting value of kappa\n",
    "GAMMA = 1.05  # kappa damping factor\n",
    "\n",
    "BETA = 10 # inverse temperature\n",
    "\n",
    "NUM_ITERS = 10000 # number of iterations of the algorithm\n",
    "WORST_DISTANCE_EPSILON = 0.01\n",
    "\n",
    "PERTURBATION_RADIUS = 1 # perturbation radius for generating the intermediate points\n",
    "\n",
    "# TODO: Delete the two parameters below\n",
    "# Elastic Net parameters\n",
    "ELASTIC_ALPHA = 0.2\n",
    "ELASTIC_BETA = 2.0"
   ]
  },
  {
   "cell_type": "code",
   "execution_count": 66,
   "metadata": {},
   "outputs": [],
   "source": [
    "class ElasticNet(object):\n",
    "    \n",
    "    def __init__(self):\n",
    "        self.kappa = KAPPA_START        \n",
    "        self.cities = norm_cities\n",
    "\n",
    "        self.init_intermediate_cities(strategy=\"centroid\")\n",
    "\n",
    "        self.worst_dists = deque(maxlen=2)\n",
    "\n",
    "\n",
    "    def init_intermediate_cities(self, strategy=\"centroid\", **kwargs):\n",
    "        if strategy == \"centroid\":\n",
    "            self.intermediate_cities = np.tile(\n",
    "                np.mean(self.cities, axis=0),\n",
    "                M\n",
    "            ).reshape((M, DIM))\n",
    "            # Create perturbation vectors of magnitude radius\n",
    "            perturbation_vectors = np.random.random((M, DIM))\n",
    "            perturbation_vectors /= np.linalg.norm(perturbation_vectors, axis=1, ord=2, keepdims=True)\n",
    "            perturbation_vectors *= PERTURBATION_RADIUS\n",
    "            self.intermediate_cities += perturbation_vectors\n",
    "        else:\n",
    "            raise RuntimeError(f\"Unknown strategy: {strategy}\")\n",
    "\n",
    "\n",
    "    def solve(self):\n",
    "        for i in range(NUM_ITERS):\n",
    "            self.update_weights()\n",
    "            self.update_kappa()\n",
    "            self.update_intermediate_cities()\n",
    "            if i % 100 == 0:\n",
    "                print(f\"Iteration {i}, Worst distance: {self.worst_dist}\")\n",
    "            if self.worst_dist < WORST_DISTANCE_EPSILON:\n",
    "                break\n",
    "            if len(self.worst_dists) == 2:\n",
    "                if self.worst_dists[1] - self.worst_dists[0] == 0:\n",
    "                    break\n",
    "\n",
    "\n",
    "    def update_kappa(self):\n",
    "        self.kappa = max(self.kappa / GAMMA, 0.01)\n",
    "\n",
    "\n",
    "    def update_weights_2(self):\n",
    "        def softmax(x):\n",
    "            \"\"\"Compute softmax values for each sets of scores in x.\"\"\"\n",
    "            e_x = np.exp(x - np.max(x))\n",
    "            return e_x / e_x.sum()\n",
    "        # Calculate distances between the cities and the intermediate_cities\n",
    "        self.diff = self.cities[:, np.newaxis] - self.intermediate_cities\n",
    "        self.dist_squared = np.sum(self.diff ** 2, axis=-1)\n",
    "\n",
    "        # self.weights = np.exp(-self.dist_squared / (2 * (self._k ** 2)))\n",
    "        # self.weights /= self._weights.sum(axis=1)[:,numpy.newaxis]\n",
    "\n",
    "        self.weights = softmax(BETA * np.sqrt(self.dist_squared))\n",
    "\n",
    "\n",
    "    def update_weights(self):\n",
    "        \"\"\"Compute w_ij, i = 1, 2, ..., |Cities|; j = 1, 2, ...., |intermediate_cities|\"\"\"\n",
    "        \n",
    "        self.diff = self.cities[:,np.newaxis] - self.intermediate_cities\n",
    "        self.dist_squared = np.sum(self.diff ** 2, axis=-1)\n",
    "\n",
    "        self.worst_dist = np.max(np.min(np.sqrt(self.dist_squared), axis=1))\n",
    "        self.worst_dists.append(self.worst_dist)\n",
    "\n",
    "        self.weights = np.exp(-self.dist_squared / (2 * (self.kappa ** 2)))\n",
    "        self.weights /= self.weights.sum(axis=1)[:,np.newaxis]\n",
    "\n",
    "\n",
    "    def get_D(self):\n",
    "        def d_ij(i, j):            \n",
    "            if i == j:\n",
    "                return np.sum(self.weights[:, int(j)])\n",
    "            return 0\n",
    "        return np.fromfunction(np.vectorize(d_ij), (M, M))\n",
    "\n",
    "\n",
    "    @functools.cached_property\n",
    "    def L(self):\n",
    "        def L_ij(i, j, M):\n",
    "            if i == j:\n",
    "                return 2\n",
    "            if i == (j + 1) % M:\n",
    "                return 1\n",
    "            if j == (i + 1) % M:\n",
    "                return 1\n",
    "            return 0\n",
    "        return np.fromfunction(np.vectorize(L_ij), (M, M), M=M, dtype=int)\n",
    "\n",
    "\n",
    "    def update_intermediate_cities(self):\n",
    "        self.intermediate_cities = np.linalg.inv((self.kappa * self.L + self.get_D())) @ self.weights.T @ self.cities"
   ]
  },
  {
   "cell_type": "code",
   "execution_count": 67,
   "metadata": {},
   "outputs": [
    {
     "name": "stdout",
     "output_type": "stream",
     "text": [
      "Iteration 0, Worst distance: 1.5097365141615824\n"
     ]
    }
   ],
   "source": [
    "net = ElasticNet()\n",
    "net.solve()"
   ]
  },
  {
   "cell_type": "code",
   "execution_count": 68,
   "metadata": {},
   "outputs": [
    {
     "data": {
      "text/plain": [
       "0.0915134133738775"
      ]
     },
     "execution_count": 68,
     "metadata": {},
     "output_type": "execute_result"
    }
   ],
   "source": [
    "net.worst_dist"
   ]
  },
  {
   "cell_type": "code",
   "execution_count": 69,
   "metadata": {},
   "outputs": [
    {
     "data": {
      "text/plain": [
       "array([[0.00000000e+000, 0.00000000e+000, 0.00000000e+000, ...,\n",
       "        0.00000000e+000, 0.00000000e+000, 7.72424792e-019],\n",
       "       [0.00000000e+000, 0.00000000e+000, 0.00000000e+000, ...,\n",
       "        0.00000000e+000, 0.00000000e+000, 0.00000000e+000],\n",
       "       [0.00000000e+000, 0.00000000e+000, 0.00000000e+000, ...,\n",
       "        7.52689873e-230, 0.00000000e+000, 0.00000000e+000],\n",
       "       ...,\n",
       "       [0.00000000e+000, 4.41625020e-159, 9.97409047e-203, ...,\n",
       "        0.00000000e+000, 0.00000000e+000, 0.00000000e+000],\n",
       "       [0.00000000e+000, 0.00000000e+000, 0.00000000e+000, ...,\n",
       "        0.00000000e+000, 0.00000000e+000, 1.00787187e-304],\n",
       "       [0.00000000e+000, 4.07026548e-105, 0.00000000e+000, ...,\n",
       "        0.00000000e+000, 0.00000000e+000, 1.32458316e-300]])"
      ]
     },
     "execution_count": 69,
     "metadata": {},
     "output_type": "execute_result"
    }
   ],
   "source": [
    "net.weights"
   ]
  },
  {
   "cell_type": "code",
   "execution_count": 71,
   "metadata": {},
   "outputs": [
    {
     "data": {
      "text/plain": [
       "array([[-3.25912853e-01, -8.04847055e-02],\n",
       "       [ 1.50684417e-01, -1.54829043e-01],\n",
       "       [ 2.45440194e-02,  3.90142792e-01],\n",
       "       [-1.23820879e-02, -6.19597368e-01],\n",
       "       [ 2.20156346e-04,  8.49051944e-01],\n",
       "       [-1.00738400e-02, -6.17847221e-01],\n",
       "       [ 1.99275236e-02,  3.86642498e-01],\n",
       "       [ 3.00336378e-01, -3.99212960e-03],\n",
       "       [-3.85641508e-01, -1.98939161e-01],\n",
       "       [ 4.70946639e-01,  4.01870451e-01],\n",
       "       [-4.28693423e-01, -5.47944421e-01],\n",
       "       [ 3.86440207e-01,  6.94018390e-01],\n",
       "       [-2.21684488e-01, -7.84883478e-01],\n",
       "       [ 5.69287694e-02,  8.75748566e-01],\n",
       "       [-2.94944893e-02, -7.36592249e-01],\n",
       "       [ 2.06020919e-03,  5.97435933e-01],\n",
       "       [-1.80646848e-01, -4.45775330e-01],\n",
       "       [ 3.59233488e-01,  2.94114728e-01],\n",
       "       [-4.43620957e-01, -2.14286653e-01],\n",
       "       [ 5.28008427e-01,  1.34458578e-01],\n",
       "       [-6.35460809e-01, -8.58541741e-02],\n",
       "       [ 7.42913190e-01,  3.72497700e-02],\n",
       "       [-5.24954405e-01, -1.91533852e-02],\n",
       "       [ 3.06995621e-01,  1.05700045e-03],\n",
       "       [-1.68213991e-01, -4.10762472e-02],\n",
       "       [ 2.94323621e-02,  8.10954939e-02],\n",
       "       [ 2.98088672e-02,  8.41731439e-02],\n",
       "       [-1.94519008e-01, -1.87507627e-01],\n",
       "       [ 3.59229148e-01,  2.90842111e-01],\n",
       "       [-4.30159875e-01, -3.02447552e-01],\n",
       "       [ 5.01090601e-01,  3.14052993e-01],\n",
       "       [-6.25544940e-01, -1.77436629e-01],\n",
       "       [ 7.49999280e-01,  4.08202646e-02],\n",
       "       [-8.74414678e-01, -1.33236270e-01],\n",
       "       [ 9.98830076e-01,  2.25652276e-01],\n",
       "       [-8.89260748e-01, -3.26572318e-01],\n",
       "       [ 7.79691419e-01,  4.27492360e-01],\n",
       "       [-8.61486196e-01, -5.94721526e-01],\n",
       "       [ 9.43280972e-01,  7.61950692e-01],\n",
       "       [-7.92381360e-01, -8.80293770e-01],\n",
       "       [ 6.41481747e-01,  9.98636848e-01],\n",
       "       [-7.49867954e-01, -9.80664706e-01],\n",
       "       [ 8.58254161e-01,  9.62692565e-01],\n",
       "       [-6.80945318e-01, -8.72513468e-01],\n",
       "       [ 5.03636475e-01,  7.82334371e-01],\n",
       "       [-5.01323003e-01, -7.81016212e-01],\n",
       "       [ 4.99009531e-01,  7.79698053e-01],\n",
       "       [-4.45312784e-01, -7.37409339e-01],\n",
       "       [ 3.91616036e-01,  6.95120625e-01],\n",
       "       [-4.74200495e-01, -6.52765614e-01],\n",
       "       [ 5.56784954e-01,  6.10410603e-01],\n",
       "       [-7.62309236e-01, -6.33506109e-01],\n",
       "       [ 9.67833518e-01,  6.56601615e-01],\n",
       "       [-7.34487404e-01, -4.86200034e-01],\n",
       "       [ 5.01141289e-01,  3.15798454e-01]])"
      ]
     },
     "execution_count": 71,
     "metadata": {},
     "output_type": "execute_result"
    }
   ],
   "source": [
    "net.intermediate_cities"
   ]
  },
  {
   "cell_type": "code",
   "execution_count": 72,
   "metadata": {},
   "outputs": [],
   "source": [
    "def decode_solution(dist2):\n",
    "    \"\"\"Return the permutation associated to the elastic.\"\"\"\n",
    "\n",
    "    neuron_city_pair = []\n",
    "\n",
    "    for _ in range(dist2.shape[0]):\n",
    "        # Find the city \n",
    "        city = dist2.min(axis=1).argmin()\n",
    "        neuron = dist2[city].argmin()\n",
    "\n",
    "        dist2[city] = numpy.inf\n",
    "        dist2[:, neuron] = numpy.inf\n",
    "\n",
    "        neuron_city_pair.append((neuron, city))\n",
    "\n",
    "    neuron_city_pair.sort(key=lambda x: x[0])\n",
    "    return [x[1] for x in neuron_city_pair]\n",
    "\n",
    "\n",
    "def compute_solution(permutation):\n",
    "    pass    \n",
    "\n",
    "\n",
    "def _pairwise(iterable):\n",
    "    \"s -> (s0,s1), (s1,s2), (s2, s3), ...\"\n",
    "    a, b = tee(iterable)\n",
    "    next(b, None)\n",
    "    return zip(a, b)\n",
    "\n",
    "\n",
    "def compute_solution(permutation, original_cities):\n",
    "    edges = list(_pairwise(chain(permutation, [permutation[0]])))\n",
    "\n",
    "    length = sum([distance(original_cities[src_dst[0]],\n",
    "                           original_cities[src_dst[1]]) for src_dst in edges])\n",
    "\n",
    "    return (length, edges)\n",
    "\n",
    "\n",
    "def distance(point1, point2):\n",
    "    x1, y1 = point1\n",
    "    x2, y2 = point2\n",
    "    return int(math.sqrt((x1 - x2) ** 2 + (y1 - y2) ** 2) + 0.5)\n"
   ]
  },
  {
   "cell_type": "code",
   "execution_count": 73,
   "metadata": {},
   "outputs": [
    {
     "data": {
      "text/plain": [
       "[13, 4, 0, 8, 3, 11, 16, 17, 18, 21, 19, 20, 15, 12, 7, 1, 2, 5, 6, 10, 9, 14]"
      ]
     },
     "execution_count": 73,
     "metadata": {},
     "output_type": "execute_result"
    }
   ],
   "source": [
    "permutation = decode_solution(net.dist_squared)\n",
    "permutation"
   ]
  },
  {
   "cell_type": "code",
   "execution_count": 75,
   "metadata": {},
   "outputs": [
    {
     "data": {
      "text/plain": [
       "(477,\n",
       " [(13, 4),\n",
       "  (4, 0),\n",
       "  (0, 8),\n",
       "  (8, 3),\n",
       "  (3, 11),\n",
       "  (11, 16),\n",
       "  (16, 17),\n",
       "  (17, 18),\n",
       "  (18, 21),\n",
       "  (21, 19),\n",
       "  (19, 20),\n",
       "  (20, 15),\n",
       "  (15, 12),\n",
       "  (12, 7),\n",
       "  (7, 1),\n",
       "  (1, 2),\n",
       "  (2, 5),\n",
       "  (5, 6),\n",
       "  (6, 10),\n",
       "  (10, 9),\n",
       "  (9, 14),\n",
       "  (14, 13)])"
      ]
     },
     "execution_count": 75,
     "metadata": {},
     "output_type": "execute_result"
    }
   ],
   "source": [
    "compute_solution(permutation, cities)"
   ]
  },
  {
   "cell_type": "code",
   "execution_count": null,
   "metadata": {},
   "outputs": [],
   "source": []
  }
 ],
 "metadata": {
  "interpreter": {
   "hash": "c455c3fb6dbc3ed24e13f81e15a8c55413eb523b33ded4459a96208217f8d07d"
  },
  "kernelspec": {
   "display_name": "cue",
   "language": "python",
   "name": "python3"
  },
  "language_info": {
   "codemirror_mode": {
    "name": "ipython",
    "version": 3
   },
   "file_extension": ".py",
   "mimetype": "text/x-python",
   "name": "python",
   "nbconvert_exporter": "python",
   "pygments_lexer": "ipython3",
   "version": "3.9.5"
  },
  "orig_nbformat": 4
 },
 "nbformat": 4,
 "nbformat_minor": 2
}
