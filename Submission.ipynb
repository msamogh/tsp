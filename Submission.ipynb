{
 "cells": [
  {
   "cell_type": "markdown",
   "metadata": {},
   "source": [
    "## Author"
   ]
  },
  {
   "cell_type": "markdown",
   "metadata": {},
   "source": [
    "This notebook was authored by Amogh Mannekote (UFID 27146587)."
   ]
  },
  {
   "cell_type": "markdown",
   "metadata": {},
   "source": [
    "## Index of questions (for referencing in the notebook)"
   ]
  },
  {
   "cell_type": "markdown",
   "metadata": {},
   "source": [
    "1. Implement the elastic net TSP by minimizing the following objective function. \\\n",
    " $E_{TSP}(P, Y) = \\sum_{i = 1}^{N}{\\sum_{a = 1}^M{P_{ia}||x_i - y_a||^2}} + \\frac{\\kappa}{2}\\sum_{a = 1}^M{||y_a - y_{a \\oplus 1}||_2^2}$\n",
    "2. Document the settings of the free parameters $\\kappa$, $\\beta$ (the inverse temperature) and $M$, the number of hidden and actual cities.\n",
    "3. If reducing $\\kappa$, provide the rate, the total number of iterations, etc.\n",
    "4. If steadily increasing $\\beta$, provide the rate, the total number of iterations, etc.\n",
    "5. Document initial conditions on $Y$.\n",
    "6. Execute the elastic net on 100 cities in $[0,1]^2$ chosen using a uniform distribution.\n",
    "7. Since we require average performance, please compute the average tour length for 100 trials and show a histogram of tour lengths.\n",
    "8. Show visual examples of the shortest, longest and median length tours for the 100 city TSP.\n",
    "9. [Extra Credit: 30 points] Compare against well known asymptotic lower bounds such as the ones uploaded on Canvas and the Held-Karp lower bound\n",
    "10. [Extra Credit: 50 points] Execute the elastic net on the US 48 cities using data from TSPlib or from https://people.sc.fsu.edu/~jburkardt/datasets/tsp/tsp.html. Give a detailed explanation\n",
    "of the results\n",
    "11. [Extra Credit: 50 points] Explain the equivalent objective function (free energy) shown below obtained by summing over all configurations of P\n",
    "12. [Extra Credit: 70 points] Explain the relevance of the following objective function in the elastic net implementation\n",
    "13. [Extra Credit: 50 points] Show the convergence of the algorithm by detailed plots of either (1) or (2) (depending on your implementation)."
   ]
  },
  {
   "cell_type": "markdown",
   "metadata": {},
   "source": [
    "------------"
   ]
  },
  {
   "cell_type": "markdown",
   "metadata": {},
   "source": [
    "## Imports"
   ]
  },
  {
   "cell_type": "code",
   "execution_count": 174,
   "metadata": {},
   "outputs": [],
   "source": [
    "from itertools import chain, tee\n",
    "from collections import deque\n",
    "import math\n",
    "import functools\n",
    "\n",
    "import numpy as np"
   ]
  },
  {
   "cell_type": "markdown",
   "metadata": {},
   "source": [
    "## Load the cities"
   ]
  },
  {
   "cell_type": "code",
   "execution_count": 175,
   "metadata": {},
   "outputs": [],
   "source": [
    "from us_city import load_us_cities\n",
    "cities, norm_cities = load_us_cities()"
   ]
  },
  {
   "cell_type": "markdown",
   "metadata": {},
   "source": [
    "## Initialize hyperparameters"
   ]
  },
  {
   "cell_type": "markdown",
   "metadata": {},
   "source": [
    "**NOTE TO TA: The following section is relevant for answering questions [2, 3, 4, 5].**"
   ]
  },
  {
   "cell_type": "code",
   "execution_count": 176,
   "metadata": {},
   "outputs": [],
   "source": [
    "DIM = 2 # dimension of the points\n",
    "N = cities.shape[0]  # number of cities\n",
    "M = int(2.5 * N)  # number of intermediate points between the cities\n",
    "\n",
    "KAPPA_START = 0.2  # starting value of kappa\n",
    "GAMMA = 1.05  # kappa damping factor\n",
    "\n",
    "BETA = 10 # inverse temperature\n",
    "\n",
    "NUM_ITERS = 10000 # number of iterations of the algorithm\n",
    "WORST_DISTANCE_EPSILON = 0.01\n",
    "\n",
    "PERTURBATION_RADIUS = 1 # perturbation radius for generating the intermediate points"
   ]
  },
  {
   "cell_type": "code",
   "execution_count": 177,
   "metadata": {},
   "outputs": [],
   "source": [
    "def init_intermediate_cities(self, strategy=\"centroid\", **kwargs):\n",
    "    if strategy == \"centroid\":\n",
    "        self.intermediate_cities = np.tile(\n",
    "            np.mean(self.cities, axis=0),\n",
    "            M\n",
    "        ).reshape((M, DIM))\n",
    "        # Create perturbation vectors of magnitude radius\n",
    "        perturbation_vectors = np.random.random((M, DIM))\n",
    "        perturbation_vectors /= np.linalg.norm(perturbation_vectors, axis=1, ord=2, keepdims=True)\n",
    "        perturbation_vectors *= PERTURBATION_RADIUS\n",
    "        self.intermediate_cities += perturbation_vectors\n",
    "    else:\n",
    "        raise RuntimeError(f\"Unknown strategy: {strategy}\")"
   ]
  },
  {
   "cell_type": "markdown",
   "metadata": {},
   "source": [
    "$$\\kappa_{T+1} = \\frac{\\kappa_T}{\\gamma}$$"
   ]
  },
  {
   "cell_type": "code",
   "execution_count": 178,
   "metadata": {},
   "outputs": [],
   "source": [
    "def update_kappa(self):\n",
    "    self.kappa = max(self.kappa / GAMMA, 0.01)"
   ]
  },
  {
   "cell_type": "markdown",
   "metadata": {},
   "source": [
    "$$P_{ia} = \\frac{exp\\{-\\beta\\||x_i - y_a||^2_2\\}}{\\sum_{b=1}^{M}{exp\\{-\\beta||x_i - y_b||_2^2\\}}}$$"
   ]
  },
  {
   "cell_type": "code",
   "execution_count": 179,
   "metadata": {},
   "outputs": [],
   "source": [
    "def update_weights(self):\n",
    "    self.diff = self.cities[:,np.newaxis] - self.intermediate_cities\n",
    "    self.dist_squared = np.sum(self.diff ** 2, axis=-1)\n",
    "\n",
    "    self.worst_dist = np.max(np.min(np.sqrt(self.dist_squared), axis=1))\n",
    "    self.worst_dists.append(self.worst_dist)\n",
    "\n",
    "    self.weights = np.exp(-self.dist_squared / (2 * (self.kappa ** 2)))\n",
    "    self.weights /= self.weights.sum(axis=1)[:,np.newaxis]"
   ]
  },
  {
   "cell_type": "markdown",
   "metadata": {},
   "source": [
    "$$d_a = \\sum_{i = 1}^{N}{P_{ia}}$$\n",
    "\n",
    "$$D_{aa} = d_a$$"
   ]
  },
  {
   "cell_type": "code",
   "execution_count": 180,
   "metadata": {},
   "outputs": [],
   "source": [
    "def get_D(self):\n",
    "    def d_ij(i, j):            \n",
    "        if i == j:\n",
    "            return np.sum(self.weights[:, int(j)])\n",
    "        return 0\n",
    "    return np.fromfunction(np.vectorize(d_ij), (M, M))"
   ]
  },
  {
   "cell_type": "markdown",
   "metadata": {},
   "source": [
    "$$Y = (\\kappa L + D)^{-1}P^TX$$"
   ]
  },
  {
   "cell_type": "code",
   "execution_count": 181,
   "metadata": {},
   "outputs": [],
   "source": [
    "def update_intermediate_cities(self):\n",
    "    self.intermediate_cities = np.linalg.inv((self.kappa * self.L + self.get_D())) @ self.weights.T @ self.cities"
   ]
  },
  {
   "cell_type": "code",
   "execution_count": 182,
   "metadata": {},
   "outputs": [],
   "source": [
    "def decode_solution(self):\n",
    "    neuron_city_pair = []\n",
    "\n",
    "    for _ in range(self.dist_squared.shape[0]):\n",
    "        # Pick the shortest edge among all edges between hidden and real cities.\n",
    "        city, intermediate_city = np.unravel_index(np.argmin(self.dist_squared), self.dist_squared.shape)\n",
    "        # Set distance to infinity so that it doesn't get picked again.\n",
    "        self.dist_squared[city] = np.inf\n",
    "        self.dist_squared[:, intermediate_city] = np.inf\n",
    "\n",
    "        neuron_city_pair.append((intermediate_city, city))\n",
    "\n",
    "    neuron_city_pair.sort(key=lambda x: x[0])\n",
    "    print(f\"neuron_city_pair: {neuron_city_pair}\")\n",
    "    self.neuron_city_pair = [x[1] for x in neuron_city_pair]\n",
    "\n",
    "\n",
    "def compute_solution(self):\n",
    "    assert len(self.neuron_city_pair) == N\n",
    "    distance = 0\n",
    "    tour = []\n",
    "    for path_idx in range(len(self.neuron_city_pair)):\n",
    "        tour.append((self.neuron_city_pair[path_idx], self.neuron_city_pair[(path_idx + 1) % N]))\n",
    "        distance += np.linalg.norm(self.original_cities[path_idx] - self.original_cities[(path_idx + 1) % N])\n",
    "    return distance, tour"
   ]
  },
  {
   "cell_type": "code",
   "execution_count": 183,
   "metadata": {},
   "outputs": [],
   "source": [
    "def solve(self):\n",
    "    for i in range(NUM_ITERS):\n",
    "        self.update_weights()\n",
    "        self.update_kappa()\n",
    "        self.update_intermediate_cities()\n",
    "        if i % 100 == 0:\n",
    "            print(f\"Iteration {i}, Worst distance: {self.worst_dist}\")\n",
    "        if self.worst_dist < WORST_DISTANCE_EPSILON:\n",
    "            break\n",
    "        if len(self.worst_dists) == 2:\n",
    "            if self.worst_dists[1] - self.worst_dists[0] == 0:\n",
    "                break\n",
    "    self.decode_solution()\n",
    "    return self.compute_solution()"
   ]
  },
  {
   "cell_type": "code",
   "execution_count": 184,
   "metadata": {},
   "outputs": [],
   "source": [
    "class ElasticNet(object):\n",
    "    \n",
    "    def __init__(\n",
    "        self,\n",
    "        init_intermediate_cities,\n",
    "        solve,\n",
    "        update_weights,\n",
    "        update_kappa,\n",
    "        update_intermediate_cities,\n",
    "        get_D,\n",
    "        decode_solution,\n",
    "        compute_solution\n",
    "    ):\n",
    "        # Take the functions as parameters to be able to split the\n",
    "        # method definitions into separate cells.\n",
    "        ElasticNet.init_intermediate_cities = init_intermediate_cities\n",
    "        ElasticNet.solve = solve\n",
    "        ElasticNet.update_weights = update_weights\n",
    "        ElasticNet.update_kappa = update_kappa\n",
    "        ElasticNet.update_intermediate_cities = update_intermediate_cities\n",
    "        ElasticNet.get_D = get_D\n",
    "        ElasticNet.decode_solution = decode_solution\n",
    "        ElasticNet.compute_solution = compute_solution\n",
    "\n",
    "        # Initialize kappa to the starting value\n",
    "        self.kappa = KAPPA_START\n",
    "        # Set original_cities to the cities\n",
    "        self.original_cities = cities\n",
    "        # Set cities to the normalized cities\n",
    "        self.cities = norm_cities\n",
    "        # Generate intermediate cities around the centroid\n",
    "        self.init_intermediate_cities(strategy=\"centroid\")\n",
    "        # A queue to hold the last two worst distances (for the stopping criterion)\n",
    "        self.worst_dists = deque(maxlen=2)\n",
    "\n",
    "\n",
    "    @functools.cached_property\n",
    "    def L(self):\n",
    "        def L_ij(i, j, M):\n",
    "            if i == j:\n",
    "                return 2\n",
    "            if i == (j + 1) % M:\n",
    "                return 1\n",
    "            if j == (i + 1) % M:\n",
    "                return 1\n",
    "            return 0\n",
    "        return np.fromfunction(np.vectorize(L_ij), (M, M), M=M, dtype=int)"
   ]
  },
  {
   "cell_type": "code",
   "execution_count": 185,
   "metadata": {},
   "outputs": [
    {
     "name": "stdout",
     "output_type": "stream",
     "text": [
      "Iteration 0, Worst distance: 1.5079357376284546\n",
      "neuron_city_pair: [(0, 9), (2, 2), (4, 7), (6, 12), (8, 15), (10, 18), (12, 20), (14, 17), (19, 19), (21, 13), (23, 11), (25, 3), (27, 4), (32, 21), (34, 0), (36, 1), (38, 6), (40, 5), (46, 10), (48, 8), (50, 16), (53, 14)]\n"
     ]
    },
    {
     "ename": "NameError",
     "evalue": "name 'edges' is not defined",
     "output_type": "error",
     "traceback": [
      "\u001b[1;31m---------------------------------------------------------------------------\u001b[0m",
      "\u001b[1;31mNameError\u001b[0m                                 Traceback (most recent call last)",
      "\u001b[1;32m<ipython-input-185-9bcc80f94c3e>\u001b[0m in \u001b[0;36m<module>\u001b[1;34m\u001b[0m\n\u001b[0;32m     11\u001b[0m         \u001b[0mcompute_solution\u001b[0m\u001b[1;33m=\u001b[0m\u001b[0mcompute_solution\u001b[0m\u001b[1;33m\u001b[0m\u001b[1;33m\u001b[0m\u001b[0m\n\u001b[0;32m     12\u001b[0m     )\n\u001b[1;32m---> 13\u001b[1;33m     \u001b[0mdistance\u001b[0m\u001b[1;33m,\u001b[0m \u001b[0mtour\u001b[0m \u001b[1;33m=\u001b[0m \u001b[0mnet\u001b[0m\u001b[1;33m.\u001b[0m\u001b[0msolve\u001b[0m\u001b[1;33m(\u001b[0m\u001b[1;33m)\u001b[0m\u001b[1;33m\u001b[0m\u001b[1;33m\u001b[0m\u001b[0m\n\u001b[0m\u001b[0;32m     14\u001b[0m     \u001b[0mprint\u001b[0m\u001b[1;33m(\u001b[0m\u001b[1;34mf\"Distance {distance}, Tour: {tour}\"\u001b[0m\u001b[1;33m)\u001b[0m\u001b[1;33m\u001b[0m\u001b[1;33m\u001b[0m\u001b[0m\n",
      "\u001b[1;32m<ipython-input-183-869c6aa9706e>\u001b[0m in \u001b[0;36msolve\u001b[1;34m(self)\u001b[0m\n\u001b[0;32m     12\u001b[0m                 \u001b[1;32mbreak\u001b[0m\u001b[1;33m\u001b[0m\u001b[1;33m\u001b[0m\u001b[0m\n\u001b[0;32m     13\u001b[0m     \u001b[0mself\u001b[0m\u001b[1;33m.\u001b[0m\u001b[0mdecode_solution\u001b[0m\u001b[1;33m(\u001b[0m\u001b[1;33m)\u001b[0m\u001b[1;33m\u001b[0m\u001b[1;33m\u001b[0m\u001b[0m\n\u001b[1;32m---> 14\u001b[1;33m     \u001b[1;32mreturn\u001b[0m \u001b[0mself\u001b[0m\u001b[1;33m.\u001b[0m\u001b[0mcompute_solution\u001b[0m\u001b[1;33m(\u001b[0m\u001b[1;33m)\u001b[0m\u001b[1;33m\u001b[0m\u001b[1;33m\u001b[0m\u001b[0m\n\u001b[0m",
      "\u001b[1;32m<ipython-input-182-760c35f154a6>\u001b[0m in \u001b[0;36mcompute_solution\u001b[1;34m(self)\u001b[0m\n\u001b[0;32m     21\u001b[0m     \u001b[0mtour\u001b[0m \u001b[1;33m=\u001b[0m \u001b[1;33m[\u001b[0m\u001b[1;33m]\u001b[0m\u001b[1;33m\u001b[0m\u001b[1;33m\u001b[0m\u001b[0m\n\u001b[0;32m     22\u001b[0m     \u001b[1;32mfor\u001b[0m \u001b[0mpath_idx\u001b[0m \u001b[1;32min\u001b[0m \u001b[0mrange\u001b[0m\u001b[1;33m(\u001b[0m\u001b[0mlen\u001b[0m\u001b[1;33m(\u001b[0m\u001b[0mself\u001b[0m\u001b[1;33m.\u001b[0m\u001b[0mneuron_city_pair\u001b[0m\u001b[1;33m)\u001b[0m\u001b[1;33m)\u001b[0m\u001b[1;33m:\u001b[0m\u001b[1;33m\u001b[0m\u001b[1;33m\u001b[0m\u001b[0m\n\u001b[1;32m---> 23\u001b[1;33m         \u001b[0medges\u001b[0m\u001b[1;33m.\u001b[0m\u001b[0mappend\u001b[0m\u001b[1;33m(\u001b[0m\u001b[1;33m(\u001b[0m\u001b[0mself\u001b[0m\u001b[1;33m.\u001b[0m\u001b[0mneuron_city_pair\u001b[0m\u001b[1;33m[\u001b[0m\u001b[0mpath_idx\u001b[0m\u001b[1;33m]\u001b[0m\u001b[1;33m,\u001b[0m \u001b[0mself\u001b[0m\u001b[1;33m.\u001b[0m\u001b[0mneuron_city_pair\u001b[0m\u001b[1;33m[\u001b[0m\u001b[1;33m(\u001b[0m\u001b[0mpath_idx\u001b[0m \u001b[1;33m+\u001b[0m \u001b[1;36m1\u001b[0m\u001b[1;33m)\u001b[0m \u001b[1;33m%\u001b[0m \u001b[0mN\u001b[0m\u001b[1;33m]\u001b[0m\u001b[1;33m)\u001b[0m\u001b[1;33m)\u001b[0m\u001b[1;33m\u001b[0m\u001b[1;33m\u001b[0m\u001b[0m\n\u001b[0m\u001b[0;32m     24\u001b[0m         \u001b[0mdistance\u001b[0m \u001b[1;33m+=\u001b[0m \u001b[0mnp\u001b[0m\u001b[1;33m.\u001b[0m\u001b[0mlinalg\u001b[0m\u001b[1;33m.\u001b[0m\u001b[0mnorm\u001b[0m\u001b[1;33m(\u001b[0m\u001b[0mself\u001b[0m\u001b[1;33m.\u001b[0m\u001b[0moriginal_cities\u001b[0m\u001b[1;33m[\u001b[0m\u001b[0mpath_idx\u001b[0m\u001b[1;33m]\u001b[0m \u001b[1;33m-\u001b[0m \u001b[0mself\u001b[0m\u001b[1;33m.\u001b[0m\u001b[0moriginal_cities\u001b[0m\u001b[1;33m[\u001b[0m\u001b[1;33m(\u001b[0m\u001b[0mpath_idx\u001b[0m \u001b[1;33m+\u001b[0m \u001b[1;36m1\u001b[0m\u001b[1;33m)\u001b[0m \u001b[1;33m%\u001b[0m \u001b[0mN\u001b[0m\u001b[1;33m]\u001b[0m\u001b[1;33m)\u001b[0m\u001b[1;33m\u001b[0m\u001b[1;33m\u001b[0m\u001b[0m\n\u001b[0;32m     25\u001b[0m     \u001b[1;32mreturn\u001b[0m \u001b[0mdistance\u001b[0m\u001b[1;33m,\u001b[0m \u001b[0mtour\u001b[0m\u001b[1;33m\u001b[0m\u001b[1;33m\u001b[0m\u001b[0m\n",
      "\u001b[1;31mNameError\u001b[0m: name 'edges' is not defined"
     ]
    }
   ],
   "source": [
    "NUM_RUNS = 2\n",
    "for run in range(NUM_RUNS):\n",
    "    net = ElasticNet(\n",
    "        init_intermediate_cities=init_intermediate_cities,\n",
    "        solve=solve,\n",
    "        update_weights=update_weights,\n",
    "        update_kappa=update_kappa,\n",
    "        update_intermediate_cities=update_intermediate_cities,\n",
    "        get_D=get_D,\n",
    "        decode_solution=decode_solution,\n",
    "        compute_solution=compute_solution\n",
    "    )\n",
    "    distance, tour = net.solve()\n",
    "    print(f\"Distance {distance}, Tour: {tour}\")"
   ]
  },
  {
   "cell_type": "markdown",
   "metadata": {},
   "source": [
    "---------------"
   ]
  },
  {
   "cell_type": "code",
   "execution_count": null,
   "metadata": {},
   "outputs": [
    {
     "data": {
      "text/plain": [
       "0.11373388241244281"
      ]
     },
     "execution_count": 118,
     "metadata": {},
     "output_type": "execute_result"
    }
   ],
   "source": [
    "net.worst_dist"
   ]
  },
  {
   "cell_type": "code",
   "execution_count": null,
   "metadata": {},
   "outputs": [
    {
     "data": {
      "text/plain": [
       "array([[0.00000000e+00, 7.37102923e-19, 0.00000000e+00, 5.15461192e-01,\n",
       "        0.00000000e+00],\n",
       "       [0.00000000e+00, 0.00000000e+00, 0.00000000e+00, 0.00000000e+00,\n",
       "        0.00000000e+00],\n",
       "       [0.00000000e+00, 0.00000000e+00, 0.00000000e+00, 0.00000000e+00,\n",
       "        0.00000000e+00],\n",
       "       [0.00000000e+00, 0.00000000e+00, 0.00000000e+00, 0.00000000e+00,\n",
       "        0.00000000e+00],\n",
       "       [0.00000000e+00, 0.00000000e+00, 0.00000000e+00, 0.00000000e+00,\n",
       "        0.00000000e+00]])"
      ]
     },
     "execution_count": 119,
     "metadata": {},
     "output_type": "execute_result"
    }
   ],
   "source": [
    "net.weights[:5, :5]"
   ]
  },
  {
   "cell_type": "code",
   "execution_count": null,
   "metadata": {},
   "outputs": [
    {
     "data": {
      "text/plain": [
       "array([[-0.51263035, -0.22535008],\n",
       "       [ 0.49996802,  0.31611335],\n",
       "       [-0.48568822, -0.3583386 ]])"
      ]
     },
     "execution_count": 120,
     "metadata": {},
     "output_type": "execute_result"
    }
   ],
   "source": [
    "net.intermediate_cities[:3]"
   ]
  },
  {
   "cell_type": "markdown",
   "metadata": {},
   "source": [
    "------------"
   ]
  }
 ],
 "metadata": {
  "interpreter": {
   "hash": "c455c3fb6dbc3ed24e13f81e15a8c55413eb523b33ded4459a96208217f8d07d"
  },
  "kernelspec": {
   "display_name": "cue",
   "language": "python",
   "name": "python3"
  },
  "language_info": {
   "codemirror_mode": {
    "name": "ipython",
    "version": 3
   },
   "file_extension": ".py",
   "mimetype": "text/x-python",
   "name": "python",
   "nbconvert_exporter": "python",
   "pygments_lexer": "ipython3",
   "version": "3.9.5"
  },
  "orig_nbformat": 4
 },
 "nbformat": 4,
 "nbformat_minor": 2
}
