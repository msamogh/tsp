{
 "cells": [
  {
   "cell_type": "markdown",
   "metadata": {},
   "source": [
    "**Do not forget your TODO items**"
   ]
  },
  {
   "cell_type": "markdown",
   "metadata": {},
   "source": [
    "----------------------"
   ]
  },
  {
   "cell_type": "markdown",
   "metadata": {},
   "source": [
    "## Imports"
   ]
  },
  {
   "cell_type": "code",
   "execution_count": 29,
   "metadata": {},
   "outputs": [],
   "source": [
    "from itertools import chain, tee\n",
    "from collections import deque\n",
    "import math\n",
    "import functools\n",
    "\n",
    "import numpy as np"
   ]
  },
  {
   "cell_type": "markdown",
   "metadata": {},
   "source": [
    "## Load the cities"
   ]
  },
  {
   "cell_type": "code",
   "execution_count": 30,
   "metadata": {},
   "outputs": [],
   "source": [
    "from us_city import load_us_cities\n",
    "cities, norm_cities = load_us_cities()"
   ]
  },
  {
   "cell_type": "markdown",
   "metadata": {},
   "source": [
    "## Initialize hyperparameters"
   ]
  },
  {
   "cell_type": "code",
   "execution_count": 31,
   "metadata": {},
   "outputs": [],
   "source": [
    "DIM = 2 # dimension of the points\n",
    "N = cities.shape[0]  # number of cities\n",
    "M = int(2.5 * N)  # number of intermediate points between the cities\n",
    "\n",
    "KAPPA_START = 0.2  # starting value of kappa\n",
    "GAMMA = 1.05  # kappa damping factor\n",
    "\n",
    "BETA = 10 # inverse temperature\n",
    "\n",
    "NUM_ITERS = 10000 # number of iterations of the algorithm\n",
    "WORST_DISTANCE_EPSILON = 0.01\n",
    "\n",
    "PERTURBATION_RADIUS = 1 # perturbation radius for generating the intermediate points\n",
    "\n",
    "# TODO: Delete the two parameters below\n",
    "# Elastic Net parameters\n",
    "ELASTIC_ALPHA = 0.2\n",
    "ELASTIC_BETA = 2.0"
   ]
  },
  {
   "cell_type": "markdown",
   "metadata": {},
   "source": [
    "## 1. Implement the elastic net TSP by minimizing the following objective function.\n",
    "\n",
    "$E_{TSP}(P, Y) = \\sum_{i = 1}^{N}{\\sum_{a = 1}^M{P_{ia}||x_i - y_a||^2}} + \\frac{\\kappa}{2}\\sum_{a = 1}^M{||y_a - y_{a \\oplus 1}||_2^2}$"
   ]
  },
  {
   "cell_type": "code",
   "execution_count": 32,
   "metadata": {},
   "outputs": [],
   "source": [
    "class ElasticNet(object):\n",
    "    \n",
    "    def __init__(\n",
    "        self,\n",
    "        init_intermediate_cities,\n",
    "        solve,\n",
    "        update_weights,\n",
    "        update_kappa,\n",
    "        update_intermediate_cities,\n",
    "        get_D\n",
    "    ):\n",
    "        # Take the functions as parameters to be able to split the\n",
    "        # method definitions into separate cells.\n",
    "        ElasticNet.init_intermediate_cities = init_intermediate_cities\n",
    "        ElasticNet.solve = solve\n",
    "        ElasticNet.update_weights = update_weights\n",
    "        ElasticNet.update_kappa = update_kappa\n",
    "        ElasticNet.update_intermediate_cities = update_intermediate_cities\n",
    "        ElasticNet.get_D = get_D\n",
    "\n",
    "        # Initialize kappa to the starting value\n",
    "        self.kappa = KAPPA_START\n",
    "        # Set cities to the normalized cities\n",
    "        self.cities = norm_cities\n",
    "        # Generate intermediate cities around the centroid\n",
    "        self.init_intermediate_cities(strategy=\"centroid\")\n",
    "        # A queue to hold the last two worst distances (for the stopping criterion)\n",
    "        self.worst_dists = deque(maxlen=2)\n",
    "\n",
    "\n",
    "    @functools.cached_property\n",
    "    def L(self):\n",
    "        def L_ij(i, j, M):\n",
    "            if i == j:\n",
    "                return 2\n",
    "            if i == (j + 1) % M:\n",
    "                return 1\n",
    "            if j == (i + 1) % M:\n",
    "                return 1\n",
    "            return 0\n",
    "        return np.fromfunction(np.vectorize(L_ij), (M, M), M=M, dtype=int)"
   ]
  },
  {
   "cell_type": "code",
   "execution_count": 33,
   "metadata": {},
   "outputs": [],
   "source": [
    "def init_intermediate_cities(self, strategy=\"centroid\", **kwargs):\n",
    "    if strategy == \"centroid\":\n",
    "        self.intermediate_cities = np.tile(\n",
    "            np.mean(self.cities, axis=0),\n",
    "            M\n",
    "        ).reshape((M, DIM))\n",
    "        # Create perturbation vectors of magnitude radius\n",
    "        perturbation_vectors = np.random.random((M, DIM))\n",
    "        perturbation_vectors /= np.linalg.norm(perturbation_vectors, axis=1, ord=2, keepdims=True)\n",
    "        perturbation_vectors *= PERTURBATION_RADIUS\n",
    "        self.intermediate_cities += perturbation_vectors\n",
    "    else:\n",
    "        raise RuntimeError(f\"Unknown strategy: {strategy}\")"
   ]
  },
  {
   "cell_type": "code",
   "execution_count": 34,
   "metadata": {},
   "outputs": [],
   "source": [
    "def solve(self):\n",
    "    for i in range(NUM_ITERS):\n",
    "        self.update_weights()\n",
    "        self.update_kappa()\n",
    "        self.update_intermediate_cities()\n",
    "        if i % 100 == 0:\n",
    "            print(f\"Iteration {i}, Worst distance: {self.worst_dist}\")\n",
    "        if self.worst_dist < WORST_DISTANCE_EPSILON:\n",
    "            break\n",
    "        if len(self.worst_dists) == 2:\n",
    "            if self.worst_dists[1] - self.worst_dists[0] == 0:\n",
    "                break"
   ]
  },
  {
   "cell_type": "code",
   "execution_count": 35,
   "metadata": {},
   "outputs": [],
   "source": [
    "def update_kappa(self):\n",
    "    self.kappa = max(self.kappa / GAMMA, 0.01)"
   ]
  },
  {
   "cell_type": "code",
   "execution_count": 36,
   "metadata": {},
   "outputs": [],
   "source": [
    "def update_weights(self):\n",
    "    self.diff = self.cities[:,np.newaxis] - self.intermediate_cities\n",
    "    self.dist_squared = np.sum(self.diff ** 2, axis=-1)\n",
    "\n",
    "    self.worst_dist = np.max(np.min(np.sqrt(self.dist_squared), axis=1))\n",
    "    self.worst_dists.append(self.worst_dist)\n",
    "\n",
    "    self.weights = np.exp(-self.dist_squared / (2 * (self.kappa ** 2)))\n",
    "    self.weights /= self.weights.sum(axis=1)[:,np.newaxis]"
   ]
  },
  {
   "cell_type": "code",
   "execution_count": 37,
   "metadata": {},
   "outputs": [],
   "source": [
    "def get_D(self):\n",
    "    def d_ij(i, j):            \n",
    "        if i == j:\n",
    "            return np.sum(self.weights[:, int(j)])\n",
    "        return 0\n",
    "    return np.fromfunction(np.vectorize(d_ij), (M, M))"
   ]
  },
  {
   "cell_type": "code",
   "execution_count": 38,
   "metadata": {},
   "outputs": [],
   "source": [
    "def update_intermediate_cities(self):\n",
    "    self.intermediate_cities = np.linalg.inv((self.kappa * self.L + self.get_D())) @ self.weights.T @ self.cities"
   ]
  },
  {
   "cell_type": "code",
   "execution_count": 39,
   "metadata": {},
   "outputs": [
    {
     "name": "stdout",
     "output_type": "stream",
     "text": [
      "Iteration 0, Worst distance: 1.5200382619389061\n"
     ]
    }
   ],
   "source": [
    "net = ElasticNet(\n",
    "    init_intermediate_cities=init_intermediate_cities,\n",
    "    solve=solve,\n",
    "    update_weights=update_weights,\n",
    "    update_kappa=update_kappa,\n",
    "    update_intermediate_cities=update_intermediate_cities,\n",
    "    get_D=get_D\n",
    ")\n",
    "net.solve()"
   ]
  },
  {
   "cell_type": "code",
   "execution_count": 40,
   "metadata": {},
   "outputs": [
    {
     "data": {
      "text/plain": [
       "0.07155421587255416"
      ]
     },
     "execution_count": 40,
     "metadata": {},
     "output_type": "execute_result"
    }
   ],
   "source": [
    "net.worst_dist"
   ]
  },
  {
   "cell_type": "code",
   "execution_count": 41,
   "metadata": {},
   "outputs": [
    {
     "data": {
      "text/plain": [
       "array([[0.00000000e+000, 0.00000000e+000, 2.93159123e-202, ...,\n",
       "        0.00000000e+000, 1.29984687e-053, 0.00000000e+000],\n",
       "       [0.00000000e+000, 0.00000000e+000, 0.00000000e+000, ...,\n",
       "        0.00000000e+000, 0.00000000e+000, 0.00000000e+000],\n",
       "       [0.00000000e+000, 0.00000000e+000, 0.00000000e+000, ...,\n",
       "        0.00000000e+000, 0.00000000e+000, 0.00000000e+000],\n",
       "       ...,\n",
       "       [0.00000000e+000, 0.00000000e+000, 0.00000000e+000, ...,\n",
       "        0.00000000e+000, 0.00000000e+000, 0.00000000e+000],\n",
       "       [0.00000000e+000, 0.00000000e+000, 0.00000000e+000, ...,\n",
       "        0.00000000e+000, 0.00000000e+000, 0.00000000e+000],\n",
       "       [0.00000000e+000, 0.00000000e+000, 0.00000000e+000, ...,\n",
       "        0.00000000e+000, 5.86081923e-196, 0.00000000e+000]])"
      ]
     },
     "execution_count": 41,
     "metadata": {},
     "output_type": "execute_result"
    }
   ],
   "source": [
    "net.weights"
   ]
  },
  {
   "cell_type": "code",
   "execution_count": 42,
   "metadata": {},
   "outputs": [
    {
     "data": {
      "text/plain": [
       "array([[ 0.00825436,  0.59527569],\n",
       "       [-0.19668904, -0.64470498],\n",
       "       [ 0.38512372,  0.69413428],\n",
       "       [-0.3850973 , -0.69412682],\n",
       "       [ 0.38507088,  0.69411936],\n",
       "       [-0.19434921, -0.64403618],\n",
       "       [ 0.00362755,  0.593953  ],\n",
       "       [-0.01557843, -0.34229082],\n",
       "       [ 0.0275293 ,  0.09062865],\n",
       "       [-0.02765355, -0.08945623],\n",
       "       [ 0.02777781,  0.08828381],\n",
       "       [-0.02790361, -0.24002302],\n",
       "       [ 0.02802941,  0.39176224],\n",
       "       [-0.04315334, -0.63400036],\n",
       "       [ 0.05827727,  0.87623848],\n",
       "       [-0.34557251, -0.93744672],\n",
       "       [ 0.63286775,  0.99865496],\n",
       "       [-0.31804885, -0.92535966],\n",
       "       [ 0.00322996,  0.85206435],\n",
       "       [-0.01140664, -0.61935004],\n",
       "       [ 0.01958332,  0.38663573],\n",
       "       [ 0.30326224, -0.00816605],\n",
       "       [-0.52614106, -0.01434142],\n",
       "       [ 0.74901987,  0.03684889],\n",
       "       [-0.87388596, -0.08570869],\n",
       "       [ 0.99875205,  0.13456848],\n",
       "       [-0.99882287, -0.22564252],\n",
       "       [ 0.9988937 ,  0.31671656],\n",
       "       [-0.88833441, -0.37212954],\n",
       "       [ 0.77777512,  0.42754253],\n",
       "       [-0.66708297, -0.51862101],\n",
       "       [ 0.55639082,  0.6096995 ],\n",
       "       [-0.52922556, -0.69511857],\n",
       "       [ 0.5020603 ,  0.78053763],\n",
       "       [-0.68092504, -0.8709396 ],\n",
       "       [ 0.85978979,  0.96134156],\n",
       "       [-0.90652202, -0.84443625],\n",
       "       [ 0.95325426,  0.72753095],\n",
       "       [-0.86515215, -0.57722709],\n",
       "       [ 0.77705005,  0.42692323],\n",
       "       [-0.65256405, -0.28131694],\n",
       "       [ 0.52807806,  0.13571066],\n",
       "       [-0.41874293, -0.06903265],\n",
       "       [ 0.30940779,  0.00235465],\n",
       "       [-0.41737525, -0.06850102],\n",
       "       [ 0.52534272,  0.13464739],\n",
       "       [-0.51266597, -0.22561793],\n",
       "       [ 0.49998923,  0.31658847],\n",
       "       [-0.48623593, -0.35908931],\n",
       "       [ 0.47248263,  0.40159014],\n",
       "       [-0.47180103, -0.40148033],\n",
       "       [ 0.47111942,  0.40137051],\n",
       "       [-0.41551416, -0.34804474],\n",
       "       [ 0.35990889,  0.29471897],\n",
       "       [-0.18408162, -0.44499733]])"
      ]
     },
     "execution_count": 42,
     "metadata": {},
     "output_type": "execute_result"
    }
   ],
   "source": [
    "net.intermediate_cities"
   ]
  },
  {
   "cell_type": "code",
   "execution_count": 43,
   "metadata": {},
   "outputs": [],
   "source": [
    "def decode_solution(dist2):\n",
    "    \"\"\"Return the permutation associated to the elastic.\"\"\"\n",
    "\n",
    "    neuron_city_pair = []\n",
    "\n",
    "    for _ in range(dist2.shape[0]):\n",
    "        # Find the city \n",
    "        city = dist2.min(axis=1).argmin()\n",
    "        neuron = dist2[city].argmin()\n",
    "\n",
    "        dist2[city] = np.inf\n",
    "        dist2[:, neuron] = np.inf\n",
    "\n",
    "        neuron_city_pair.append((neuron, city))\n",
    "\n",
    "    neuron_city_pair.sort(key=lambda x: x[0])\n",
    "    return [x[1] for x in neuron_city_pair]\n",
    "\n",
    "\n",
    "def compute_solution(permutation):\n",
    "    pass    \n",
    "\n",
    "\n",
    "def _pairwise(iterable):\n",
    "    \"s -> (s0,s1), (s1,s2), (s2, s3), ...\"\n",
    "    a, b = tee(iterable)\n",
    "    next(b, None)\n",
    "    return zip(a, b)\n",
    "\n",
    "\n",
    "def compute_solution(permutation, original_cities):\n",
    "    edges = list(_pairwise(chain(permutation, [permutation[0]])))\n",
    "\n",
    "    length = sum([distance(original_cities[src_dst[0]],\n",
    "                           original_cities[src_dst[1]]) for src_dst in edges])\n",
    "\n",
    "    return (length, edges)\n",
    "\n",
    "\n",
    "def distance(point1, point2):\n",
    "    x1, y1 = point1\n",
    "    x2, y2 = point2\n",
    "    return int(math.sqrt((x1 - x2) ** 2 + (y1 - y2) ** 2) + 0.5)\n"
   ]
  },
  {
   "cell_type": "code",
   "execution_count": 44,
   "metadata": {},
   "outputs": [
    {
     "data": {
      "text/plain": [
       "[8, 5, 11, 19, 13, 3, 1, 4, 20, 18, 15, 12, 10, 6, 2, 7, 9, 17, 21, 14, 0, 16]"
      ]
     },
     "execution_count": 44,
     "metadata": {},
     "output_type": "execute_result"
    }
   ],
   "source": [
    "permutation = decode_solution(net.dist_squared)\n",
    "permutation"
   ]
  },
  {
   "cell_type": "code",
   "execution_count": 45,
   "metadata": {},
   "outputs": [
    {
     "data": {
      "text/plain": [
       "(540,\n",
       " [(8, 5),\n",
       "  (5, 11),\n",
       "  (11, 19),\n",
       "  (19, 13),\n",
       "  (13, 3),\n",
       "  (3, 1),\n",
       "  (1, 4),\n",
       "  (4, 20),\n",
       "  (20, 18),\n",
       "  (18, 15),\n",
       "  (15, 12),\n",
       "  (12, 10),\n",
       "  (10, 6),\n",
       "  (6, 2),\n",
       "  (2, 7),\n",
       "  (7, 9),\n",
       "  (9, 17),\n",
       "  (17, 21),\n",
       "  (21, 14),\n",
       "  (14, 0),\n",
       "  (0, 16),\n",
       "  (16, 8)])"
      ]
     },
     "execution_count": 45,
     "metadata": {},
     "output_type": "execute_result"
    }
   ],
   "source": [
    "compute_solution(permutation, cities)"
   ]
  },
  {
   "cell_type": "code",
   "execution_count": null,
   "metadata": {},
   "outputs": [],
   "source": []
  }
 ],
 "metadata": {
  "interpreter": {
   "hash": "c455c3fb6dbc3ed24e13f81e15a8c55413eb523b33ded4459a96208217f8d07d"
  },
  "kernelspec": {
   "display_name": "cue",
   "language": "python",
   "name": "python3"
  },
  "language_info": {
   "codemirror_mode": {
    "name": "ipython",
    "version": 3
   },
   "file_extension": ".py",
   "mimetype": "text/x-python",
   "name": "python",
   "nbconvert_exporter": "python",
   "pygments_lexer": "ipython3",
   "version": "3.9.5"
  },
  "orig_nbformat": 4
 },
 "nbformat": 4,
 "nbformat_minor": 2
}
