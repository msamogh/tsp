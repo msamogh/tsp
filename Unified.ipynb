{
 "cells": [
  {
   "cell_type": "markdown",
   "metadata": {},
   "source": [
    "**Do not forget your TODO items**"
   ]
  },
  {
   "cell_type": "markdown",
   "metadata": {},
   "source": [
    "----------------------"
   ]
  },
  {
   "cell_type": "code",
   "execution_count": 117,
   "metadata": {},
   "outputs": [],
   "source": [
    "import math\n",
    "import numpy\n",
    "import numpy as np\n",
    "from itertools import chain, tee\n",
    "import functools"
   ]
  },
  {
   "cell_type": "markdown",
   "metadata": {},
   "source": [
    "## Initialize hyperparameters"
   ]
  },
  {
   "cell_type": "code",
   "execution_count": 118,
   "metadata": {},
   "outputs": [],
   "source": [
    "from us_city import load_us_cities\n",
    "cities, norm_cities = load_us_cities()\n",
    "\n",
    "DIM = 2 # dimension of the points\n",
    "N = cities.shape[0]  # number of cities\n",
    "M = int(2.5 * N)  # number of intermediate points between the cities\n",
    "\n",
    "KAPPA_START = 0.2  # starting value of kappa\n",
    "GAMMA = 1.05  # kappa damping factor\n",
    "\n",
    "BETA = 10 # inverse temperature\n",
    "\n",
    "NUM_ITERS = 6703 #10000 # number of iterations of the algorithm\n",
    "\n",
    "PERTURBATION_RADIUS = 0.1 # perturbation radius for generating the intermediate points\n",
    "\n",
    "# TODO: Delete the two parameters below\n",
    "# Elastic Net parameters\n",
    "ELASTIC_ALPHA = 0.2\n",
    "ELASTIC_BETA = 2.0"
   ]
  },
  {
   "cell_type": "code",
   "execution_count": 119,
   "metadata": {},
   "outputs": [],
   "source": [
    "class ElasticNet(object):\n",
    "    \n",
    "    def __init__(self):\n",
    "        self.cities = norm_cities\n",
    "        self.init_neurons()\n",
    "        \n",
    "        self.kappa = KAPPA_START\n",
    "\n",
    "\n",
    "    def init_neurons(self):\n",
    "        # TODO: Rewrite\n",
    "        theta = np.linspace(0, 2 * math.pi, M, False)\n",
    "        centroid = self.cities.mean(axis=0)\n",
    "\n",
    "        self.neurons = np.vstack((np.cos(theta), np.sin(theta)))\n",
    "        self.neurons *= PERTURBATION_RADIUS\n",
    "        self.neurons += centroid[:, np.newaxis]\n",
    "        self.neurons = self.neurons.transpose()\n",
    "\n",
    "\n",
    "    def solve(self):\n",
    "        for i in range(NUM_ITERS):\n",
    "            self.update_weights()\n",
    "            self.update_kappa()\n",
    "            self.update_neurons_anand()\n",
    "            if self.worst_dist < 0.01:\n",
    "                break\n",
    "\n",
    "\n",
    "    def update_kappa(self):\n",
    "        self.kappa = max(self.kappa / GAMMA, 0.01)\n",
    "\n",
    "\n",
    "    def update_weights_2(self):\n",
    "        def softmax(x):\n",
    "            \"\"\"Compute softmax values for each sets of scores in x.\"\"\"\n",
    "            e_x = np.exp(x - np.max(x))\n",
    "            return e_x / e_x.sum()\n",
    "        # Calculate distances between the cities and the neurons\n",
    "        self.diff = self.cities[:, np.newaxis] - self.neurons\n",
    "        self.dist_squared = np.sum(self.diff ** 2, axis=-1)\n",
    "\n",
    "        # self.weights = np.exp(-self.dist_squared / (2 * (self._k ** 2)))\n",
    "        # self.weights /= self._weights.sum(axis=1)[:,numpy.newaxis]\n",
    "\n",
    "        self.weights = softmax(BETA * np.sqrt(self.dist_squared))\n",
    "\n",
    "\n",
    "    def _length_force(self):\n",
    "        return np.array([\n",
    "                self.neurons[(i + 1) % M]\n",
    "                - 2 * self.neurons[i]\n",
    "                + self.neurons[(i - 1) % M]\n",
    "             for i in range(M)])\n",
    "\n",
    "    def _length_force_2(self):\n",
    "        return numpy.concatenate((\n",
    "            [self.neurons[1] - 2 * self.neurons[0] \n",
    "             + self.neurons[M - 1]],\n",
    "            \n",
    "            [(self.neurons[i+1]\n",
    "              - 2 * self.neurons[i]\n",
    "              + self.neurons[i-1])\n",
    "             for i in range(1, M - 1)],\n",
    "            \n",
    "            [self.neurons[0]\n",
    "             - 2 * self.neurons[M - 1]\n",
    "             + self.neurons[M - 2]]))\n",
    "\n",
    "\n",
    "    def _dist_force(self):\n",
    "        return np.array(\n",
    "            [np.dot(self.weights[:, i],\n",
    "                       self.diff[:, i]) for i in range(M)])\n",
    "\n",
    "\n",
    "    def update_weights(self):\n",
    "        \"\"\"Compute w_ij, i = 1, 2, ..., |Cities|; j = 1, 2, ...., |Neurons|\"\"\"\n",
    "        \n",
    "        self.diff = self.cities[:,np.newaxis] - self.neurons\n",
    "        self.dist_squared = np.sum(self.diff ** 2, axis=-1)\n",
    "\n",
    "        self.worst_dist = np.max(np.min(np.sqrt(self.dist_squared), axis=1))\n",
    "\n",
    "        self.weights = np.exp(-self.dist_squared / (2 * (self.kappa ** 2)))\n",
    "\n",
    "        # At this point\n",
    "        # self._weights[i,j] == unnormalized weight associated to city\n",
    "        # i and neuron j\n",
    "\n",
    "        self.weights /= self.weights.sum(axis=1)[:,np.newaxis]\n",
    "\n",
    "        # At this point\n",
    "        # self._weights[i,j] == normalized weight associated to city i\n",
    "        # and neuron j\n",
    "\n",
    "    def get_D(self):\n",
    "        def d_ij(i, j):            \n",
    "            if i == j:\n",
    "                return np.sum(self.weights[:, int(j)])\n",
    "            return 0\n",
    "        return np.fromfunction(np.vectorize(d_ij), (M, M))\n",
    "\n",
    "\n",
    "    @functools.cached_property\n",
    "    def L(self):\n",
    "        def L_ij(i, j, M):\n",
    "            if i == j:\n",
    "                return 2\n",
    "            if i == (j + 1) % M:\n",
    "                return 1\n",
    "            if j == (i + 1) % M:\n",
    "                return 1\n",
    "            return 0\n",
    "        return np.fromfunction(np.vectorize(L_ij), (M, M), M=M, dtype=int)\n",
    "\n",
    "\n",
    "    def update_neurons_anand(self):\n",
    "        self.neurons = np.linalg.inv((self.kappa * self.L + self.get_D())) @ self.weights.T @ self.cities\n",
    "\n",
    "\n",
    "    def update_neurons(self):\n",
    "        dist_force = self._dist_force()\n",
    "        length_force = self._length_force()\n",
    "\n",
    "        self.neurons += ELASTIC_ALPHA * dist_force \\\n",
    "            + ELASTIC_BETA * self.kappa * length_force"
   ]
  },
  {
   "cell_type": "code",
   "execution_count": 120,
   "metadata": {},
   "outputs": [],
   "source": [
    "net = ElasticNet()\n",
    "net.solve()"
   ]
  },
  {
   "cell_type": "code",
   "execution_count": 121,
   "metadata": {},
   "outputs": [
    {
     "data": {
      "text/plain": [
       "array([[1.00000000e+000, 0.00000000e+000, 0.00000000e+000, ...,\n",
       "        0.00000000e+000, 5.83608291e-181, 0.00000000e+000],\n",
       "       [0.00000000e+000, 0.00000000e+000, 0.00000000e+000, ...,\n",
       "        0.00000000e+000, 6.49516168e-076, 0.00000000e+000],\n",
       "       [0.00000000e+000, 0.00000000e+000, 0.00000000e+000, ...,\n",
       "        0.00000000e+000, 0.00000000e+000, 0.00000000e+000],\n",
       "       ...,\n",
       "       [0.00000000e+000, 0.00000000e+000, 0.00000000e+000, ...,\n",
       "        0.00000000e+000, 0.00000000e+000, 0.00000000e+000],\n",
       "       [0.00000000e+000, 0.00000000e+000, 1.00000000e+000, ...,\n",
       "        0.00000000e+000, 0.00000000e+000, 0.00000000e+000],\n",
       "       [0.00000000e+000, 0.00000000e+000, 0.00000000e+000, ...,\n",
       "        0.00000000e+000, 0.00000000e+000, 0.00000000e+000]])"
      ]
     },
     "execution_count": 121,
     "metadata": {},
     "output_type": "execute_result"
    }
   ],
   "source": [
    "net.weights"
   ]
  },
  {
   "cell_type": "code",
   "execution_count": 122,
   "metadata": {},
   "outputs": [
    {
     "data": {
      "text/plain": [
       "0.2896716724505031"
      ]
     },
     "execution_count": 122,
     "metadata": {},
     "output_type": "execute_result"
    }
   ],
   "source": [
    "net.worst_dist"
   ]
  },
  {
   "cell_type": "code",
   "execution_count": 123,
   "metadata": {},
   "outputs": [
    {
     "data": {
      "text/plain": [
       "array([[ 4.86754485e-01,  3.59790530e-01],\n",
       "       [-6.18160157e-01, -1.99623024e-01],\n",
       "       [ 7.49565828e-01,  3.94555176e-02],\n",
       "       [-8.37554342e-01, -1.66303190e-01],\n",
       "       [ 9.25542855e-01,  2.93150862e-01],\n",
       "       [-8.98610151e-01, -5.60379194e-01],\n",
       "       [ 8.71677447e-01,  8.27607526e-01],\n",
       "       [-5.72357217e-01, -2.64452717e-01],\n",
       "       [ 2.73036987e-01, -2.98702092e-01],\n",
       "       [ 2.62832432e-02,  8.61856901e-01],\n",
       "       [-2.66965585e-02, -6.25660166e-01],\n",
       "       [ 2.71098738e-02,  3.89463432e-01],\n",
       "       [-9.30699451e-03, -1.31980406e-01],\n",
       "       [-8.49588481e-03, -1.25502621e-01],\n",
       "       [ 2.62987641e-02,  3.82985647e-01],\n",
       "       [-1.32797656e-02, -4.89210403e-01],\n",
       "       [ 2.60767119e-04,  5.95435158e-01],\n",
       "       [-2.65124873e-04, -5.95491301e-01],\n",
       "       [ 2.69482627e-04,  5.95547444e-01],\n",
       "       [-1.37634728e-02, -4.94811204e-01],\n",
       "       [ 2.72574630e-02,  3.94074963e-01],\n",
       "       [-2.75128361e-02, -3.90814216e-01],\n",
       "       [ 2.77682093e-02,  3.87553468e-01],\n",
       "       [-2.77705595e-02, -3.13148570e-01],\n",
       "       [ 2.77729097e-02,  2.38743672e-01],\n",
       "       [-2.77752599e-02, -1.64338773e-01],\n",
       "       [ 2.77776101e-02,  8.99338751e-02],\n",
       "       [-2.77773104e-02, -8.77103444e-02],\n",
       "       [ 2.77770108e-02,  8.54868137e-02],\n",
       "       [-2.77632603e-02, -8.53846650e-02],\n",
       "       [ 2.77495097e-02,  8.52825163e-02],\n",
       "       [-2.72399804e-02, -8.37187571e-02],\n",
       "       [ 2.67304511e-02,  8.21549980e-02],\n",
       "       [-8.87002199e-03, -2.73974883e-02],\n",
       "       [-8.99040709e-03, -2.73600213e-02],\n",
       "       [ 2.68508362e-02,  8.21175309e-02],\n",
       "       [-2.93550995e-02, -8.30617453e-02],\n",
       "       [ 3.18593628e-02,  8.40059597e-02],\n",
       "       [-9.96235447e-02, -6.32070105e-02],\n",
       "       [ 1.67387727e-01,  4.24080613e-02],\n",
       "       [-2.35151908e-01, -2.16091121e-02],\n",
       "       [ 3.02916090e-01,  8.10162903e-04],\n",
       "       [-3.04212315e-01, -4.13025746e-04],\n",
       "       [ 3.05508539e-01,  1.58885895e-05],\n",
       "       [-3.05574786e-01, -3.44033845e-05],\n",
       "       [ 3.05641033e-01,  5.29181795e-05],\n",
       "       [-3.07943327e-01, -1.45574113e-03],\n",
       "       [ 3.10245621e-01,  2.85856407e-03],\n",
       "       [-4.18064204e-01, -6.85728758e-02],\n",
       "       [ 5.25882787e-01,  1.34287187e-01],\n",
       "       [-4.44202279e-01, -2.14086096e-01],\n",
       "       [ 3.62521771e-01,  2.93885005e-01],\n",
       "       [-4.21907202e-01, -4.93891710e-01],\n",
       "       [ 4.81292633e-01,  6.93898416e-01],\n",
       "       [-4.84023559e-01, -5.26844473e-01]])"
      ]
     },
     "execution_count": 123,
     "metadata": {},
     "output_type": "execute_result"
    }
   ],
   "source": [
    "net.neurons"
   ]
  },
  {
   "cell_type": "code",
   "execution_count": 124,
   "metadata": {},
   "outputs": [],
   "source": [
    "def decode_solution(dist2):\n",
    "    \"\"\"Return the permutation associated to the elastic.\"\"\"\n",
    "\n",
    "    neuron_city_pair = []\n",
    "\n",
    "    for i in range(dist2.shape[0]):\n",
    "        city = dist2.min(axis=1).argmin()\n",
    "        neuron = dist2[city].argmin()\n",
    "\n",
    "        dist2[city] = numpy.inf\n",
    "        dist2[:,neuron] = numpy.inf\n",
    "\n",
    "        neuron_city_pair.append((neuron, city))\n",
    "\n",
    "    neuron_city_pair.sort(key=lambda x: x[0])\n",
    "    return [x[1] for x in neuron_city_pair]\n"
   ]
  },
  {
   "cell_type": "code",
   "execution_count": 125,
   "metadata": {},
   "outputs": [
    {
     "data": {
      "text/plain": [
       "[14, 20, 15, 7, 4, 13, 1, 3, 11, 8, 10, 5, 2, 19, 9, 18, 21, 12, 0, 17, 16, 6]"
      ]
     },
     "execution_count": 125,
     "metadata": {},
     "output_type": "execute_result"
    }
   ],
   "source": [
    "permutation = decode_solution(net.dist_squared)\n",
    "permutation"
   ]
  },
  {
   "cell_type": "code",
   "execution_count": 126,
   "metadata": {},
   "outputs": [],
   "source": [
    "def _pairwise(iterable):\n",
    "    \"s -> (s0,s1), (s1,s2), (s2, s3), ...\"\n",
    "    a, b = tee(iterable)\n",
    "    next(b, None)\n",
    "    return zip(a, b)\n",
    "\n",
    "def compute_solution(permutation, original_cities):\n",
    "    edges = list(_pairwise(chain(permutation, [permutation[0]])))\n",
    "\n",
    "    length = sum([distance(original_cities[src_dst[0]],\n",
    "                           original_cities[src_dst[1]]) for src_dst in edges])\n",
    "\n",
    "    return (length, edges)\n",
    "\n",
    "def distance(point1, point2):\n",
    "    x1, y1 = point1\n",
    "    x2, y2 = point2\n",
    "    return int(math.sqrt((x1 - x2) ** 2 + (y1 - y2) ** 2) + 0.5)"
   ]
  },
  {
   "cell_type": "code",
   "execution_count": 127,
   "metadata": {},
   "outputs": [
    {
     "data": {
      "text/plain": [
       "(688,\n",
       " [(14, 20),\n",
       "  (20, 15),\n",
       "  (15, 7),\n",
       "  (7, 4),\n",
       "  (4, 13),\n",
       "  (13, 1),\n",
       "  (1, 3),\n",
       "  (3, 11),\n",
       "  (11, 8),\n",
       "  (8, 10),\n",
       "  (10, 5),\n",
       "  (5, 2),\n",
       "  (2, 19),\n",
       "  (19, 9),\n",
       "  (9, 18),\n",
       "  (18, 21),\n",
       "  (21, 12),\n",
       "  (12, 0),\n",
       "  (0, 17),\n",
       "  (17, 16),\n",
       "  (16, 6),\n",
       "  (6, 14)])"
      ]
     },
     "execution_count": 127,
     "metadata": {},
     "output_type": "execute_result"
    }
   ],
   "source": [
    "compute_solution(permutation, cities)"
   ]
  },
  {
   "cell_type": "code",
   "execution_count": null,
   "metadata": {},
   "outputs": [],
   "source": []
  }
 ],
 "metadata": {
  "interpreter": {
   "hash": "c455c3fb6dbc3ed24e13f81e15a8c55413eb523b33ded4459a96208217f8d07d"
  },
  "kernelspec": {
   "display_name": "cue",
   "language": "python",
   "name": "python3"
  },
  "language_info": {
   "codemirror_mode": {
    "name": "ipython",
    "version": 3
   },
   "file_extension": ".py",
   "mimetype": "text/x-python",
   "name": "python",
   "nbconvert_exporter": "python",
   "pygments_lexer": "ipython3",
   "version": "3.9.5"
  },
  "orig_nbformat": 4
 },
 "nbformat": 4,
 "nbformat_minor": 2
}
