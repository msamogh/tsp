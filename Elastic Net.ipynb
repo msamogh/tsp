{
 "cells": [
  {
   "cell_type": "markdown",
   "metadata": {},
   "source": [
    "### 1. Implement the elastic net TSP by minimizing the following objective function.\n",
    "\n",
    "$E_{TSP}(P, Y) = \\sum_{i = 1}^{N}{\\sum_{a = 1}^M{P_{ia}||x_i - y_a||^2}} + \\frac{\\kappa}{2}\\sum_{a = 1}^M{||y_a - y_{a \\oplus 1}||_2^2}$"
   ]
  },
  {
   "cell_type": "code",
   "execution_count": 3,
   "metadata": {},
   "outputs": [],
   "source": [
    "import autograd.numpy as np"
   ]
  },
  {
   "cell_type": "code",
   "execution_count": 77,
   "metadata": {},
   "outputs": [],
   "source": [
    "from us_city import load_us_cities\n",
    "US_CITIES = load_us_cities()\n",
    "\n",
    "DIM = 2 # dimension of the points\n",
    "N = US_CITIES.shape[0]  # number of cities\n",
    "M = 3 * N  # number of intermediate points between the cities\n",
    "\n",
    "KAPPA_START = 20  # starting value of kappa\n",
    "GAMMA = 1.05  # kappa damping factor\n",
    "\n",
    "BETA = 10 # inverse temperature\n",
    "\n",
    "NUM_ITERS = 2 # number of iterations of the algorithm\n",
    "\n",
    "PERTURBATION_RADIUS = 100 # perturbation radius for generating the intermediate points"
   ]
  },
  {
   "cell_type": "markdown",
   "metadata": {},
   "source": [
    "**Implement a \"driver\" function to solve for $Y$ and update $P$ in alternating steps.**"
   ]
  },
  {
   "cell_type": "code",
   "execution_count": 85,
   "metadata": {},
   "outputs": [],
   "source": [
    "import functools\n",
    "\n",
    "class Solver(object):\n",
    "\n",
    "    def __init__(self):\n",
    "        self.kappa = KAPPA_START\n",
    "\n",
    "        self.X = US_CITIES\n",
    "        self.Y = self.init_Y(strategy=\"centroid\", X=self.X, M=M, perturbation_radius=PERTURBATION_RADIUS)\n",
    "        self.P = np.zeros((N, M))\n",
    "        print(self.P)\n",
    "\n",
    "    \n",
    "    def init_Y(self, strategy=\"centroid\", **kwargs):\n",
    "        if strategy == \"centroid\":\n",
    "            X, M, radius = kwargs[\"X\"], kwargs[\"M\"], kwargs[\"perturbation_radius\"]\n",
    "            Y = np.tile(\n",
    "                np.mean(X, axis=0),\n",
    "                M\n",
    "            ).reshape((M, DIM))\n",
    "            # Create perturbation vectors of magnitude radius\n",
    "            perturbation_vectors = np.random.random((M, DIM))\n",
    "            perturbation_vectors /= np.linalg.norm(perturbation_vectors, axis=1, ord=2, keepdims=True)\n",
    "            perturbation_vectors *= radius\n",
    "            return Y + perturbation_vectors\n",
    "        raise RuntimeError(f\"Unknown strategy: {strategy}\")\n",
    "\n",
    "\n",
    "    @functools.cached_property\n",
    "    def L(self):\n",
    "        def L_ij(i, j, M):\n",
    "            if i == j:\n",
    "                return 2\n",
    "            if i == (j + 1) % M:\n",
    "                return 1\n",
    "            if j == (i + 1) % M:\n",
    "                return 1\n",
    "            return 0\n",
    "        return np.fromfunction(np.vectorize(L_ij), (M, M), M=M, dtype=int)\n",
    "    \n",
    "    \n",
    "    def get_D(self):\n",
    "        def d_ij(i, j):            \n",
    "            if i == j:\n",
    "                return np.sum(self.P[:, int(j)])\n",
    "            return 0\n",
    "        return np.fromfunction(np.vectorize(d_ij), (M, M))\n",
    "\n",
    "\n",
    "    def solve_for_Y(self):\n",
    "        \"\"\"Define solver for Y\"\"\"\n",
    "        # TODO Is there a more computationally efficient way to solve this?\n",
    "        temp_1 = np.linalg.inv(self.kappa * self.L + self.get_D())\n",
    "        temp_2 = (self.P.T @ self.X)\n",
    "        return temp_1 @ temp_2\n",
    "        \n",
    "    \n",
    "    def softmax(self, x):\n",
    "        return np.exp(x) / np.sum(np.exp(x), axis=0)\n",
    "\n",
    "\n",
    "    def update_P(self):\n",
    "        \"\"\"\n",
    "        **Define update equation for $P$.**\n",
    "\n",
    "        We define the elementwise update equation for the matrix $P$:\n",
    "\n",
    "        $P_{ia} = softmax(-\\beta ||x_i - y_a||_2^2)$\n",
    "        \"\"\"\n",
    "        assert self.X.shape[0] == N\n",
    "        assert self.Y.shape[0] == M\n",
    "        def p_ij(i, j):\n",
    "            i, j = int(i), int(j)\n",
    "            return self.softmax(\n",
    "                np.linalg.norm(self.X[i] - self.Y[j], ord=2, axis=0)**2\n",
    "            )\n",
    "        return np.fromfunction(np.vectorize(p_ij), (N, M))\n",
    "        \n",
    "\n",
    "    def run(self):\n",
    "        for _ in range(NUM_ITERS):\n",
    "            self.Y = self.solve_for_Y()\n",
    "            self.P = self.update_P()"
   ]
  },
  {
   "cell_type": "code",
   "execution_count": 86,
   "metadata": {},
   "outputs": [
    {
     "name": "stdout",
     "output_type": "stream",
     "text": [
      "[[0. 0. 0. ... 0. 0. 0.]\n",
      " [0. 0. 0. ... 0. 0. 0.]\n",
      " [0. 0. 0. ... 0. 0. 0.]\n",
      " ...\n",
      " [0. 0. 0. ... 0. 0. 0.]\n",
      " [0. 0. 0. ... 0. 0. 0.]\n",
      " [0. 0. 0. ... 0. 0. 0.]]\n"
     ]
    },
    {
     "name": "stderr",
     "output_type": "stream",
     "text": [
      "/home/msamogh/.cache/pypoetry/virtualenvs/tsp-xdxCQgoB-py3.8/lib/python3.8/site-packages/autograd/tracer.py:48: RuntimeWarning: overflow encountered in exp\n",
      "  return f_raw(*args, **kwargs)\n",
      "/tmp/ipykernel_9720/1081775070.py:59: RuntimeWarning: invalid value encountered in double_scalars\n",
      "  return np.exp(x) / np.sum(np.exp(x), axis=0)\n",
      "/home/msamogh/.cache/pypoetry/virtualenvs/tsp-xdxCQgoB-py3.8/lib/python3.8/site-packages/numpy/lib/function_base.py:2387: RuntimeWarning: invalid value encountered in p_ij (vectorized)\n",
      "  outputs = ufunc(*inputs)\n"
     ]
    }
   ],
   "source": [
    "s = Solver()\n",
    "s.run()"
   ]
  },
  {
   "cell_type": "code",
   "execution_count": 87,
   "metadata": {},
   "outputs": [
    {
     "data": {
      "text/plain": [
       "array([[nan, nan, nan, ..., nan, nan, nan],\n",
       "       [nan, nan, nan, ..., nan, nan, nan],\n",
       "       [nan, nan, nan, ..., nan, nan, nan],\n",
       "       ...,\n",
       "       [nan, nan, nan, ..., nan, nan, nan],\n",
       "       [nan, nan, nan, ..., nan, nan, nan],\n",
       "       [nan, nan, nan, ..., nan, nan, nan]])"
      ]
     },
     "execution_count": 87,
     "metadata": {},
     "output_type": "execute_result"
    }
   ],
   "source": [
    "s.P"
   ]
  },
  {
   "cell_type": "code",
   "execution_count": null,
   "metadata": {},
   "outputs": [],
   "source": []
  }
 ],
 "metadata": {
  "interpreter": {
   "hash": "2f14631c2b90b441f5dec0eccee98555261f70347428fa627d22c8cd3dc91e9e"
  },
  "kernelspec": {
   "display_name": "Python 3.8.10 ('tsp-xdxCQgoB-py3.8')",
   "language": "python",
   "name": "python3"
  },
  "language_info": {
   "codemirror_mode": {
    "name": "ipython",
    "version": 3
   },
   "file_extension": ".py",
   "mimetype": "text/x-python",
   "name": "python",
   "nbconvert_exporter": "python",
   "pygments_lexer": "ipython3",
   "version": "3.8.10"
  },
  "orig_nbformat": 4
 },
 "nbformat": 4,
 "nbformat_minor": 2
}
